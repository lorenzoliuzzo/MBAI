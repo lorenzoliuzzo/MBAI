{
 "cells": [
  {
   "cell_type": "markdown",
   "id": "5ce1a046-061d-4a98-af48-4ec0a60756a5",
   "metadata": {},
   "source": [
    "# Validate Data\n",
    "After scraping the data using the `NBAScraper` from `scripts/scraping.py`, we need to validate the data across multiple seasons. "
   ]
  },
  {
   "cell_type": "code",
   "execution_count": 1,
   "id": "262f6697-d505-4d5d-97fa-e33b6537d443",
   "metadata": {},
   "outputs": [],
   "source": [
    "import pandas as pd\n",
    "from pathlib import Path"
   ]
  },
  {
   "cell_type": "code",
   "execution_count": 2,
   "id": "3ee7389d-3414-416c-8c28-856b446a9692",
   "metadata": {},
   "outputs": [],
   "source": [
    "data_path = Path(\"~/MBAI/data/\").expanduser()"
   ]
  },
  {
   "cell_type": "code",
   "execution_count": 3,
   "id": "7358da4b-90b1-47a5-8634-a8d81ee834c5",
   "metadata": {},
   "outputs": [],
   "source": [
    "team_gamelogs = []\n",
    "player_gamelogs = []\n",
    "for season_dir in data_path.iterdir():\n",
    "    team_gamelogs.append(pd.read_csv(season_dir / \"raw_team_gamelogs.csv\"))\n",
    "    player_gamelogs.append(pd.read_csv(season_dir / \"raw_player_gamelogs.csv\"))"
   ]
  },
  {
   "cell_type": "code",
   "execution_count": 11,
   "id": "84c48186-5344-4bdd-8ec8-c6067820ad13",
   "metadata": {},
   "outputs": [],
   "source": [
    "game_actions = []\n",
    "for season_dir in data_path.iterdir():\n",
    "    for game_dir in season_dir.iterdir():\n",
    "        if game_dir.is_dir() and game_dir.name.startswith('g'):\n",
    "            game_actions.append(pd.read_csv(game_dir / \"raw_actions.csv\"))"
   ]
  },
  {
   "cell_type": "code",
   "execution_count": 12,
   "id": "e4656572-d8f3-4b25-a9e9-6675b12587ad",
   "metadata": {},
   "outputs": [],
   "source": [
    "actions_df = pd.concat(game_actions)"
   ]
  },
  {
   "cell_type": "markdown",
   "id": "44395d4f-412b-449f-b2d0-3b5848d82095",
   "metadata": {},
   "source": [
    "We have loaded all the data we've scraped. It is now time to clean it and validate it."
   ]
  },
  {
   "cell_type": "markdown",
   "id": "09740f59-7c33-470a-bc34-b8c9ad7b4b0d",
   "metadata": {
    "jp-MarkdownHeadingCollapsed": true
   },
   "source": [
    "### Team Gamelogs"
   ]
  },
  {
   "cell_type": "code",
   "execution_count": 44,
   "id": "e42c8d83-4a07-417e-95ba-6546fc843664",
   "metadata": {},
   "outputs": [],
   "source": [
    "team_gamelogs_df = pd.concat(team_gamelogs)"
   ]
  },
  {
   "cell_type": "code",
   "execution_count": 45,
   "id": "289f5a53-5d9e-4fde-bd8b-aebfc80ba726",
   "metadata": {},
   "outputs": [
    {
     "data": {
      "text/plain": [
       "Index(['SEASON_ID', 'TEAM_ID', 'TEAM_ABBREVIATION', 'TEAM_NAME', 'GAME_ID',\n",
       "       'GAME_DATE', 'MATCHUP', 'WL', 'MIN', 'FGM', 'FGA', 'FG_PCT', 'FG3M',\n",
       "       'FG3A', 'FG3_PCT', 'FTM', 'FTA', 'FT_PCT', 'OREB', 'DREB', 'REB', 'AST',\n",
       "       'STL', 'BLK', 'TOV', 'PF', 'PTS', 'PLUS_MINUS', 'VIDEO_AVAILABLE'],\n",
       "      dtype='object')"
      ]
     },
     "execution_count": 45,
     "metadata": {},
     "output_type": "execute_result"
    }
   ],
   "source": [
    "team_gamelogs_df.columns"
   ]
  },
  {
   "cell_type": "code",
   "execution_count": 46,
   "id": "7f2e3fa7-9209-4b88-9694-5b7e33dde09e",
   "metadata": {},
   "outputs": [],
   "source": [
    "cols2drop = [\n",
    "    'TEAM_ABBREVIATION', 'TEAM_NAME', 'GAME_DATE', \n",
    "    'MATCHUP', 'PLUS_MINUS', 'VIDEO_AVAILABLE'\n",
    "]\n",
    "team_gamelogs_df.drop(columns=cols2drop, inplace=True)"
   ]
  },
  {
   "cell_type": "code",
   "execution_count": 47,
   "id": "55dc396e-35b9-4237-a6f9-be4f69f03b86",
   "metadata": {},
   "outputs": [],
   "source": [
    "team_gamelogs_df = team_gamelogs_df.set_index(['SEASON_ID', 'GAME_ID', 'TEAM_ID']).sort_index()"
   ]
  },
  {
   "cell_type": "code",
   "execution_count": 48,
   "id": "ce0afacc-9794-4780-8879-2919ef61d68f",
   "metadata": {},
   "outputs": [
    {
     "data": {
      "text/html": [
       "<div>\n",
       "<style scoped>\n",
       "    .dataframe tbody tr th:only-of-type {\n",
       "        vertical-align: middle;\n",
       "    }\n",
       "\n",
       "    .dataframe tbody tr th {\n",
       "        vertical-align: top;\n",
       "    }\n",
       "\n",
       "    .dataframe thead th {\n",
       "        text-align: right;\n",
       "    }\n",
       "</style>\n",
       "<table border=\"1\" class=\"dataframe\">\n",
       "  <thead>\n",
       "    <tr style=\"text-align: right;\">\n",
       "      <th></th>\n",
       "      <th></th>\n",
       "      <th></th>\n",
       "      <th>WL</th>\n",
       "      <th>MIN</th>\n",
       "      <th>FGM</th>\n",
       "      <th>FGA</th>\n",
       "      <th>FG_PCT</th>\n",
       "      <th>FG3M</th>\n",
       "      <th>FG3A</th>\n",
       "      <th>FG3_PCT</th>\n",
       "      <th>FTM</th>\n",
       "      <th>FTA</th>\n",
       "      <th>FT_PCT</th>\n",
       "      <th>OREB</th>\n",
       "      <th>DREB</th>\n",
       "      <th>REB</th>\n",
       "      <th>AST</th>\n",
       "      <th>STL</th>\n",
       "      <th>BLK</th>\n",
       "      <th>TOV</th>\n",
       "      <th>PF</th>\n",
       "      <th>PTS</th>\n",
       "    </tr>\n",
       "    <tr>\n",
       "      <th>SEASON_ID</th>\n",
       "      <th>GAME_ID</th>\n",
       "      <th>TEAM_ID</th>\n",
       "      <th></th>\n",
       "      <th></th>\n",
       "      <th></th>\n",
       "      <th></th>\n",
       "      <th></th>\n",
       "      <th></th>\n",
       "      <th></th>\n",
       "      <th></th>\n",
       "      <th></th>\n",
       "      <th></th>\n",
       "      <th></th>\n",
       "      <th></th>\n",
       "      <th></th>\n",
       "      <th></th>\n",
       "      <th></th>\n",
       "      <th></th>\n",
       "      <th></th>\n",
       "      <th></th>\n",
       "      <th></th>\n",
       "      <th></th>\n",
       "    </tr>\n",
       "  </thead>\n",
       "  <tbody>\n",
       "    <tr>\n",
       "      <th rowspan=\"5\" valign=\"top\">22021</th>\n",
       "      <th rowspan=\"2\" valign=\"top\">22100001</th>\n",
       "      <th>1610612749</th>\n",
       "      <td>W</td>\n",
       "      <td>240</td>\n",
       "      <td>48</td>\n",
       "      <td>105</td>\n",
       "      <td>0.457</td>\n",
       "      <td>17</td>\n",
       "      <td>45</td>\n",
       "      <td>0.378</td>\n",
       "      <td>14</td>\n",
       "      <td>18</td>\n",
       "      <td>0.778</td>\n",
       "      <td>13</td>\n",
       "      <td>41</td>\n",
       "      <td>54</td>\n",
       "      <td>25</td>\n",
       "      <td>8</td>\n",
       "      <td>9</td>\n",
       "      <td>8</td>\n",
       "      <td>19</td>\n",
       "      <td>127</td>\n",
       "    </tr>\n",
       "    <tr>\n",
       "      <th>1610612751</th>\n",
       "      <td>L</td>\n",
       "      <td>240</td>\n",
       "      <td>37</td>\n",
       "      <td>84</td>\n",
       "      <td>0.440</td>\n",
       "      <td>17</td>\n",
       "      <td>32</td>\n",
       "      <td>0.531</td>\n",
       "      <td>13</td>\n",
       "      <td>23</td>\n",
       "      <td>0.565</td>\n",
       "      <td>5</td>\n",
       "      <td>39</td>\n",
       "      <td>44</td>\n",
       "      <td>19</td>\n",
       "      <td>3</td>\n",
       "      <td>9</td>\n",
       "      <td>13</td>\n",
       "      <td>17</td>\n",
       "      <td>104</td>\n",
       "    </tr>\n",
       "    <tr>\n",
       "      <th rowspan=\"2\" valign=\"top\">22100002</th>\n",
       "      <th>1610612744</th>\n",
       "      <td>W</td>\n",
       "      <td>240</td>\n",
       "      <td>41</td>\n",
       "      <td>93</td>\n",
       "      <td>0.441</td>\n",
       "      <td>14</td>\n",
       "      <td>39</td>\n",
       "      <td>0.359</td>\n",
       "      <td>25</td>\n",
       "      <td>30</td>\n",
       "      <td>0.833</td>\n",
       "      <td>9</td>\n",
       "      <td>41</td>\n",
       "      <td>50</td>\n",
       "      <td>30</td>\n",
       "      <td>9</td>\n",
       "      <td>2</td>\n",
       "      <td>17</td>\n",
       "      <td>18</td>\n",
       "      <td>121</td>\n",
       "    </tr>\n",
       "    <tr>\n",
       "      <th>1610612747</th>\n",
       "      <td>L</td>\n",
       "      <td>240</td>\n",
       "      <td>45</td>\n",
       "      <td>95</td>\n",
       "      <td>0.474</td>\n",
       "      <td>15</td>\n",
       "      <td>42</td>\n",
       "      <td>0.357</td>\n",
       "      <td>9</td>\n",
       "      <td>19</td>\n",
       "      <td>0.474</td>\n",
       "      <td>5</td>\n",
       "      <td>40</td>\n",
       "      <td>45</td>\n",
       "      <td>21</td>\n",
       "      <td>7</td>\n",
       "      <td>4</td>\n",
       "      <td>18</td>\n",
       "      <td>25</td>\n",
       "      <td>114</td>\n",
       "    </tr>\n",
       "    <tr>\n",
       "      <th>22100003</th>\n",
       "      <th>1610612754</th>\n",
       "      <td>L</td>\n",
       "      <td>240</td>\n",
       "      <td>42</td>\n",
       "      <td>90</td>\n",
       "      <td>0.467</td>\n",
       "      <td>17</td>\n",
       "      <td>47</td>\n",
       "      <td>0.362</td>\n",
       "      <td>21</td>\n",
       "      <td>24</td>\n",
       "      <td>0.875</td>\n",
       "      <td>8</td>\n",
       "      <td>43</td>\n",
       "      <td>51</td>\n",
       "      <td>29</td>\n",
       "      <td>2</td>\n",
       "      <td>10</td>\n",
       "      <td>17</td>\n",
       "      <td>24</td>\n",
       "      <td>122</td>\n",
       "    </tr>\n",
       "    <tr>\n",
       "      <th>...</th>\n",
       "      <th>...</th>\n",
       "      <th>...</th>\n",
       "      <td>...</td>\n",
       "      <td>...</td>\n",
       "      <td>...</td>\n",
       "      <td>...</td>\n",
       "      <td>...</td>\n",
       "      <td>...</td>\n",
       "      <td>...</td>\n",
       "      <td>...</td>\n",
       "      <td>...</td>\n",
       "      <td>...</td>\n",
       "      <td>...</td>\n",
       "      <td>...</td>\n",
       "      <td>...</td>\n",
       "      <td>...</td>\n",
       "      <td>...</td>\n",
       "      <td>...</td>\n",
       "      <td>...</td>\n",
       "      <td>...</td>\n",
       "      <td>...</td>\n",
       "      <td>...</td>\n",
       "    </tr>\n",
       "    <tr>\n",
       "      <th rowspan=\"5\" valign=\"top\">22024</th>\n",
       "      <th>22401228</th>\n",
       "      <th>1610612744</th>\n",
       "      <td>L</td>\n",
       "      <td>240</td>\n",
       "      <td>49</td>\n",
       "      <td>103</td>\n",
       "      <td>0.476</td>\n",
       "      <td>27</td>\n",
       "      <td>54</td>\n",
       "      <td>0.500</td>\n",
       "      <td>8</td>\n",
       "      <td>11</td>\n",
       "      <td>0.727</td>\n",
       "      <td>15</td>\n",
       "      <td>22</td>\n",
       "      <td>37</td>\n",
       "      <td>39</td>\n",
       "      <td>8</td>\n",
       "      <td>2</td>\n",
       "      <td>10</td>\n",
       "      <td>17</td>\n",
       "      <td>133</td>\n",
       "    </tr>\n",
       "    <tr>\n",
       "      <th rowspan=\"2\" valign=\"top\">22401229</th>\n",
       "      <th>1610612737</th>\n",
       "      <td>L</td>\n",
       "      <td>240</td>\n",
       "      <td>35</td>\n",
       "      <td>82</td>\n",
       "      <td>0.427</td>\n",
       "      <td>10</td>\n",
       "      <td>24</td>\n",
       "      <td>0.417</td>\n",
       "      <td>22</td>\n",
       "      <td>34</td>\n",
       "      <td>0.647</td>\n",
       "      <td>7</td>\n",
       "      <td>37</td>\n",
       "      <td>44</td>\n",
       "      <td>23</td>\n",
       "      <td>3</td>\n",
       "      <td>6</td>\n",
       "      <td>13</td>\n",
       "      <td>20</td>\n",
       "      <td>102</td>\n",
       "    </tr>\n",
       "    <tr>\n",
       "      <th>1610612749</th>\n",
       "      <td>W</td>\n",
       "      <td>240</td>\n",
       "      <td>39</td>\n",
       "      <td>86</td>\n",
       "      <td>0.453</td>\n",
       "      <td>14</td>\n",
       "      <td>45</td>\n",
       "      <td>0.311</td>\n",
       "      <td>18</td>\n",
       "      <td>27</td>\n",
       "      <td>0.667</td>\n",
       "      <td>6</td>\n",
       "      <td>41</td>\n",
       "      <td>47</td>\n",
       "      <td>28</td>\n",
       "      <td>8</td>\n",
       "      <td>8</td>\n",
       "      <td>13</td>\n",
       "      <td>27</td>\n",
       "      <td>110</td>\n",
       "    </tr>\n",
       "    <tr>\n",
       "      <th rowspan=\"2\" valign=\"top\">22401230</th>\n",
       "      <th>1610612745</th>\n",
       "      <td>L</td>\n",
       "      <td>240</td>\n",
       "      <td>35</td>\n",
       "      <td>96</td>\n",
       "      <td>0.365</td>\n",
       "      <td>11</td>\n",
       "      <td>46</td>\n",
       "      <td>0.239</td>\n",
       "      <td>15</td>\n",
       "      <td>25</td>\n",
       "      <td>0.600</td>\n",
       "      <td>19</td>\n",
       "      <td>30</td>\n",
       "      <td>49</td>\n",
       "      <td>17</td>\n",
       "      <td>7</td>\n",
       "      <td>3</td>\n",
       "      <td>16</td>\n",
       "      <td>25</td>\n",
       "      <td>96</td>\n",
       "    </tr>\n",
       "    <tr>\n",
       "      <th>1610612760</th>\n",
       "      <td>W</td>\n",
       "      <td>240</td>\n",
       "      <td>36</td>\n",
       "      <td>80</td>\n",
       "      <td>0.450</td>\n",
       "      <td>11</td>\n",
       "      <td>30</td>\n",
       "      <td>0.367</td>\n",
       "      <td>28</td>\n",
       "      <td>32</td>\n",
       "      <td>0.875</td>\n",
       "      <td>4</td>\n",
       "      <td>39</td>\n",
       "      <td>43</td>\n",
       "      <td>19</td>\n",
       "      <td>12</td>\n",
       "      <td>4</td>\n",
       "      <td>12</td>\n",
       "      <td>24</td>\n",
       "      <td>111</td>\n",
       "    </tr>\n",
       "  </tbody>\n",
       "</table>\n",
       "<p>9840 rows × 20 columns</p>\n",
       "</div>"
      ],
      "text/plain": [
       "                              WL  MIN  FGM  FGA  FG_PCT  FG3M  FG3A  FG3_PCT  \\\n",
       "SEASON_ID GAME_ID  TEAM_ID                                                     \n",
       "22021     22100001 1610612749  W  240   48  105   0.457    17    45    0.378   \n",
       "                   1610612751  L  240   37   84   0.440    17    32    0.531   \n",
       "          22100002 1610612744  W  240   41   93   0.441    14    39    0.359   \n",
       "                   1610612747  L  240   45   95   0.474    15    42    0.357   \n",
       "          22100003 1610612754  L  240   42   90   0.467    17    47    0.362   \n",
       "...                           ..  ...  ...  ...     ...   ...   ...      ...   \n",
       "22024     22401228 1610612744  L  240   49  103   0.476    27    54    0.500   \n",
       "          22401229 1610612737  L  240   35   82   0.427    10    24    0.417   \n",
       "                   1610612749  W  240   39   86   0.453    14    45    0.311   \n",
       "          22401230 1610612745  L  240   35   96   0.365    11    46    0.239   \n",
       "                   1610612760  W  240   36   80   0.450    11    30    0.367   \n",
       "\n",
       "                               FTM  FTA  FT_PCT  OREB  DREB  REB  AST  STL  \\\n",
       "SEASON_ID GAME_ID  TEAM_ID                                                   \n",
       "22021     22100001 1610612749   14   18   0.778    13    41   54   25    8   \n",
       "                   1610612751   13   23   0.565     5    39   44   19    3   \n",
       "          22100002 1610612744   25   30   0.833     9    41   50   30    9   \n",
       "                   1610612747    9   19   0.474     5    40   45   21    7   \n",
       "          22100003 1610612754   21   24   0.875     8    43   51   29    2   \n",
       "...                            ...  ...     ...   ...   ...  ...  ...  ...   \n",
       "22024     22401228 1610612744    8   11   0.727    15    22   37   39    8   \n",
       "          22401229 1610612737   22   34   0.647     7    37   44   23    3   \n",
       "                   1610612749   18   27   0.667     6    41   47   28    8   \n",
       "          22401230 1610612745   15   25   0.600    19    30   49   17    7   \n",
       "                   1610612760   28   32   0.875     4    39   43   19   12   \n",
       "\n",
       "                               BLK  TOV  PF  PTS  \n",
       "SEASON_ID GAME_ID  TEAM_ID                        \n",
       "22021     22100001 1610612749    9    8  19  127  \n",
       "                   1610612751    9   13  17  104  \n",
       "          22100002 1610612744    2   17  18  121  \n",
       "                   1610612747    4   18  25  114  \n",
       "          22100003 1610612754   10   17  24  122  \n",
       "...                            ...  ...  ..  ...  \n",
       "22024     22401228 1610612744    2   10  17  133  \n",
       "          22401229 1610612737    6   13  20  102  \n",
       "                   1610612749    8   13  27  110  \n",
       "          22401230 1610612745    3   16  25   96  \n",
       "                   1610612760    4   12  24  111  \n",
       "\n",
       "[9840 rows x 20 columns]"
      ]
     },
     "execution_count": 48,
     "metadata": {},
     "output_type": "execute_result"
    }
   ],
   "source": [
    "team_gamelogs_df"
   ]
  },
  {
   "cell_type": "code",
   "execution_count": 49,
   "id": "e8748f02-ef5a-4d86-8f78-8d98bad75daf",
   "metadata": {},
   "outputs": [
    {
     "name": "stdout",
     "output_type": "stream",
     "text": [
      "<class 'pandas.core.frame.DataFrame'>\n",
      "MultiIndex: 9840 entries, (np.int64(22021), np.int64(22100001), np.int64(1610612749)) to (np.int64(22024), np.int64(22401230), np.int64(1610612760))\n",
      "Data columns (total 20 columns):\n",
      " #   Column   Non-Null Count  Dtype  \n",
      "---  ------   --------------  -----  \n",
      " 0   WL       9840 non-null   object \n",
      " 1   MIN      9840 non-null   int64  \n",
      " 2   FGM      9840 non-null   int64  \n",
      " 3   FGA      9840 non-null   int64  \n",
      " 4   FG_PCT   9840 non-null   float64\n",
      " 5   FG3M     9840 non-null   int64  \n",
      " 6   FG3A     9840 non-null   int64  \n",
      " 7   FG3_PCT  9840 non-null   float64\n",
      " 8   FTM      9840 non-null   int64  \n",
      " 9   FTA      9840 non-null   int64  \n",
      " 10  FT_PCT   9839 non-null   float64\n",
      " 11  OREB     9840 non-null   int64  \n",
      " 12  DREB     9840 non-null   int64  \n",
      " 13  REB      9840 non-null   int64  \n",
      " 14  AST      9840 non-null   int64  \n",
      " 15  STL      9840 non-null   int64  \n",
      " 16  BLK      9840 non-null   int64  \n",
      " 17  TOV      9840 non-null   int64  \n",
      " 18  PF       9840 non-null   int64  \n",
      " 19  PTS      9840 non-null   int64  \n",
      "dtypes: float64(3), int64(16), object(1)\n",
      "memory usage: 1.7+ MB\n"
     ]
    }
   ],
   "source": [
    "team_gamelogs_df.info()"
   ]
  },
  {
   "cell_type": "code",
   "execution_count": 50,
   "id": "325bfbe8-be32-4433-8ce1-39e13e4ad246",
   "metadata": {},
   "outputs": [],
   "source": [
    "assert team_gamelogs_df.index.get_level_values('TEAM_ID').nunique() == 30"
   ]
  },
  {
   "cell_type": "code",
   "execution_count": 51,
   "id": "02bf0b7f-682f-4828-8b16-fa05a3ac3567",
   "metadata": {},
   "outputs": [],
   "source": [
    "wl_counts = team_gamelogs_df['WL'].value_counts()\n",
    "assert wl_counts['W'] == wl_counts['L'], f\"Wins ({wl_counts['W']}) and losses ({wl_counts['L']}) don't match\""
   ]
  },
  {
   "cell_type": "code",
   "execution_count": 52,
   "id": "660159bb-f23e-4d0a-9327-7ecc781f0f79",
   "metadata": {},
   "outputs": [
    {
     "name": "stderr",
     "output_type": "stream",
     "text": [
      "/tmp/ipykernel_9647/923970584.py:1: FutureWarning: Downcasting behavior in `replace` is deprecated and will be removed in a future version. To retain the old behavior, explicitly call `result.infer_objects(copy=False)`. To opt-in to the future behavior, set `pd.set_option('future.no_silent_downcasting', True)`\n",
      "  team_gamelogs_df['WL'] = team_gamelogs_df['WL'].replace({'W': True, 'L': False})\n"
     ]
    }
   ],
   "source": [
    "team_gamelogs_df['WL'] = team_gamelogs_df['WL'].replace({'W': True, 'L': False})"
   ]
  },
  {
   "cell_type": "code",
   "execution_count": 54,
   "id": "c17854c3-b73f-489d-8269-94bba42e4db1",
   "metadata": {},
   "outputs": [],
   "source": [
    "int_cols = team_gamelogs_df.select_dtypes(include=['int64']).columns\n",
    "team_gamelogs_df[int_cols] = team_gamelogs_df[int_cols].apply(pd.to_numeric, downcast='unsigned')"
   ]
  },
  {
   "cell_type": "code",
   "execution_count": 56,
   "id": "b2680ae7-9f65-4381-b275-19670dcaa8f6",
   "metadata": {},
   "outputs": [],
   "source": [
    "float_cols = team_gamelogs_df.select_dtypes(include=['float64']).columns\n",
    "team_gamelogs_df[float_cols] = team_gamelogs_df[float_cols].astype('float16')"
   ]
  },
  {
   "cell_type": "code",
   "execution_count": 57,
   "id": "3c06bd70-c002-459a-ba39-890cbf42b72a",
   "metadata": {},
   "outputs": [
    {
     "data": {
      "text/plain": [
       "WL            bool\n",
       "MIN         uint16\n",
       "FGM          uint8\n",
       "FGA          uint8\n",
       "FG_PCT     float16\n",
       "FG3M         uint8\n",
       "FG3A         uint8\n",
       "FG3_PCT    float16\n",
       "FTM          uint8\n",
       "FTA          uint8\n",
       "FT_PCT     float16\n",
       "OREB         uint8\n",
       "DREB         uint8\n",
       "REB          uint8\n",
       "AST          uint8\n",
       "STL          uint8\n",
       "BLK          uint8\n",
       "TOV          uint8\n",
       "PF           uint8\n",
       "PTS          uint8\n",
       "dtype: object"
      ]
     },
     "execution_count": 57,
     "metadata": {},
     "output_type": "execute_result"
    }
   ],
   "source": [
    "team_gamelogs_df.dtypes"
   ]
  },
  {
   "cell_type": "code",
   "execution_count": 59,
   "id": "c02f6e9e-de3b-4fcc-9847-fbe732827f8c",
   "metadata": {},
   "outputs": [
    {
     "name": "stdout",
     "output_type": "stream",
     "text": [
      "Original df memory: 4.55 MB\n",
      "Optimized df memory: 0.43 MB\n",
      "Memory saved: 4.12 MB (90.6%)\n"
     ]
    }
   ],
   "source": [
    "original_memory = pd.concat(team_gamelogs).memory_usage(deep=True).sum()\n",
    "optimized_memory = team_gamelogs_df.memory_usage(deep=True).sum()\n",
    "\n",
    "print(f\"Original df memory: {original_memory / 1024**2:.2f} MB\")\n",
    "print(f\"Optimized df memory: {optimized_memory / 1024**2:.2f} MB\")\n",
    "print(f\"Memory saved: {(original_memory - optimized_memory) / 1024**2:.2f} MB ({(1 - optimized_memory/original_memory)*100:.1f}%)\")"
   ]
  },
  {
   "cell_type": "markdown",
   "id": "6cc3ed40-0b8a-447b-b144-1410bee9d8b2",
   "metadata": {
    "jp-MarkdownHeadingCollapsed": true
   },
   "source": [
    "### Player Gamelogs"
   ]
  },
  {
   "cell_type": "code",
   "execution_count": 60,
   "id": "b8656708-6d33-4738-89c4-5b3c0ada4171",
   "metadata": {},
   "outputs": [],
   "source": [
    "player_gamelogs_df = pd.concat(player_gamelogs)"
   ]
  },
  {
   "cell_type": "code",
   "execution_count": 61,
   "id": "e3eb6d1f-7643-4ea1-8a64-c2f813c71274",
   "metadata": {},
   "outputs": [
    {
     "data": {
      "text/plain": [
       "Index(['SEASON_ID', 'PLAYER_ID', 'PLAYER_NAME', 'TEAM_ID', 'TEAM_ABBREVIATION',\n",
       "       'TEAM_NAME', 'GAME_ID', 'GAME_DATE', 'MATCHUP', 'WL', 'MIN', 'FGM',\n",
       "       'FGA', 'FG_PCT', 'FG3M', 'FG3A', 'FG3_PCT', 'FTM', 'FTA', 'FT_PCT',\n",
       "       'OREB', 'DREB', 'REB', 'AST', 'STL', 'BLK', 'TOV', 'PF', 'PTS',\n",
       "       'PLUS_MINUS', 'FANTASY_PTS', 'VIDEO_AVAILABLE'],\n",
       "      dtype='object')"
      ]
     },
     "execution_count": 61,
     "metadata": {},
     "output_type": "execute_result"
    }
   ],
   "source": [
    "player_gamelogs_df.columns"
   ]
  },
  {
   "cell_type": "code",
   "execution_count": 62,
   "id": "9d6657d3-5e50-4f2f-b304-22129676a1f5",
   "metadata": {},
   "outputs": [
    {
     "data": {
      "text/plain": [
       "SEASON_ID                0\n",
       "PLAYER_ID                0\n",
       "PLAYER_NAME              0\n",
       "TEAM_ID                  0\n",
       "TEAM_ABBREVIATION        0\n",
       "TEAM_NAME                0\n",
       "GAME_ID                  0\n",
       "GAME_DATE                0\n",
       "MATCHUP                  0\n",
       "WL                       0\n",
       "MIN                      0\n",
       "FGM                      0\n",
       "FGA                      0\n",
       "FG_PCT                5465\n",
       "FG3M                     0\n",
       "FG3A                     0\n",
       "FG3_PCT              22352\n",
       "FTM                      0\n",
       "FTA                      0\n",
       "FT_PCT               46952\n",
       "OREB                     0\n",
       "DREB                     0\n",
       "REB                      0\n",
       "AST                      0\n",
       "STL                      0\n",
       "BLK                      0\n",
       "TOV                      0\n",
       "PF                       0\n",
       "PTS                      0\n",
       "PLUS_MINUS               0\n",
       "FANTASY_PTS              0\n",
       "VIDEO_AVAILABLE          0\n",
       "dtype: int64"
      ]
     },
     "execution_count": 62,
     "metadata": {},
     "output_type": "execute_result"
    }
   ],
   "source": [
    "player_gamelogs_df.isna().sum()"
   ]
  },
  {
   "cell_type": "code",
   "execution_count": 63,
   "id": "747c885c-fc9d-47b4-b411-76a933051b7c",
   "metadata": {},
   "outputs": [],
   "source": [
    "cols2drop = [\n",
    "    'PLAYER_NAME', 'TEAM_ID', 'TEAM_ABBREVIATION',\n",
    "    'TEAM_NAME', 'GAME_DATE', 'MATCHUP', \n",
    "    'FG_PCT', 'FG3_PCT', 'FT_PCT',\n",
    "    'FANTASY_PTS', 'VIDEO_AVAILABLE',\n",
    "]\n",
    "player_gamelogs_df.drop(columns=cols2drop, inplace=True)"
   ]
  },
  {
   "cell_type": "code",
   "execution_count": 65,
   "id": "bfa7736a-1f4c-4eb2-bbe5-a8b65d0fcff6",
   "metadata": {},
   "outputs": [],
   "source": [
    "player_gamelogs_df = player_gamelogs_df.set_index(['SEASON_ID', 'GAME_ID', 'PLAYER_ID']).sort_index()"
   ]
  },
  {
   "cell_type": "code",
   "execution_count": 66,
   "id": "3703d477-79d3-4288-af0a-5dea4252b0ec",
   "metadata": {},
   "outputs": [
    {
     "data": {
      "text/html": [
       "<div>\n",
       "<style scoped>\n",
       "    .dataframe tbody tr th:only-of-type {\n",
       "        vertical-align: middle;\n",
       "    }\n",
       "\n",
       "    .dataframe tbody tr th {\n",
       "        vertical-align: top;\n",
       "    }\n",
       "\n",
       "    .dataframe thead th {\n",
       "        text-align: right;\n",
       "    }\n",
       "</style>\n",
       "<table border=\"1\" class=\"dataframe\">\n",
       "  <thead>\n",
       "    <tr style=\"text-align: right;\">\n",
       "      <th></th>\n",
       "      <th></th>\n",
       "      <th></th>\n",
       "      <th>WL</th>\n",
       "      <th>MIN</th>\n",
       "      <th>FGM</th>\n",
       "      <th>FGA</th>\n",
       "      <th>FG3M</th>\n",
       "      <th>FG3A</th>\n",
       "      <th>FTM</th>\n",
       "      <th>FTA</th>\n",
       "      <th>OREB</th>\n",
       "      <th>DREB</th>\n",
       "      <th>REB</th>\n",
       "      <th>AST</th>\n",
       "      <th>STL</th>\n",
       "      <th>BLK</th>\n",
       "      <th>TOV</th>\n",
       "      <th>PF</th>\n",
       "      <th>PTS</th>\n",
       "      <th>PLUS_MINUS</th>\n",
       "    </tr>\n",
       "    <tr>\n",
       "      <th>SEASON_ID</th>\n",
       "      <th>GAME_ID</th>\n",
       "      <th>PLAYER_ID</th>\n",
       "      <th></th>\n",
       "      <th></th>\n",
       "      <th></th>\n",
       "      <th></th>\n",
       "      <th></th>\n",
       "      <th></th>\n",
       "      <th></th>\n",
       "      <th></th>\n",
       "      <th></th>\n",
       "      <th></th>\n",
       "      <th></th>\n",
       "      <th></th>\n",
       "      <th></th>\n",
       "      <th></th>\n",
       "      <th></th>\n",
       "      <th></th>\n",
       "      <th></th>\n",
       "      <th></th>\n",
       "    </tr>\n",
       "  </thead>\n",
       "  <tbody>\n",
       "    <tr>\n",
       "      <th rowspan=\"5\" valign=\"top\">22021</th>\n",
       "      <th rowspan=\"5\" valign=\"top\">22100001</th>\n",
       "      <th>200746</th>\n",
       "      <td>L</td>\n",
       "      <td>16</td>\n",
       "      <td>0</td>\n",
       "      <td>2</td>\n",
       "      <td>0</td>\n",
       "      <td>0</td>\n",
       "      <td>1</td>\n",
       "      <td>4</td>\n",
       "      <td>0</td>\n",
       "      <td>3</td>\n",
       "      <td>3</td>\n",
       "      <td>1</td>\n",
       "      <td>0</td>\n",
       "      <td>1</td>\n",
       "      <td>1</td>\n",
       "      <td>2</td>\n",
       "      <td>1</td>\n",
       "      <td>2</td>\n",
       "    </tr>\n",
       "    <tr>\n",
       "      <th>200794</th>\n",
       "      <td>L</td>\n",
       "      <td>5</td>\n",
       "      <td>0</td>\n",
       "      <td>0</td>\n",
       "      <td>0</td>\n",
       "      <td>0</td>\n",
       "      <td>0</td>\n",
       "      <td>0</td>\n",
       "      <td>1</td>\n",
       "      <td>2</td>\n",
       "      <td>3</td>\n",
       "      <td>0</td>\n",
       "      <td>0</td>\n",
       "      <td>1</td>\n",
       "      <td>1</td>\n",
       "      <td>0</td>\n",
       "      <td>0</td>\n",
       "      <td>-1</td>\n",
       "    </tr>\n",
       "    <tr>\n",
       "      <th>201142</th>\n",
       "      <td>L</td>\n",
       "      <td>30</td>\n",
       "      <td>13</td>\n",
       "      <td>25</td>\n",
       "      <td>3</td>\n",
       "      <td>7</td>\n",
       "      <td>3</td>\n",
       "      <td>6</td>\n",
       "      <td>0</td>\n",
       "      <td>11</td>\n",
       "      <td>11</td>\n",
       "      <td>4</td>\n",
       "      <td>0</td>\n",
       "      <td>2</td>\n",
       "      <td>1</td>\n",
       "      <td>2</td>\n",
       "      <td>32</td>\n",
       "      <td>-20</td>\n",
       "    </tr>\n",
       "    <tr>\n",
       "      <th>201572</th>\n",
       "      <td>W</td>\n",
       "      <td>28</td>\n",
       "      <td>3</td>\n",
       "      <td>9</td>\n",
       "      <td>2</td>\n",
       "      <td>4</td>\n",
       "      <td>0</td>\n",
       "      <td>0</td>\n",
       "      <td>2</td>\n",
       "      <td>3</td>\n",
       "      <td>5</td>\n",
       "      <td>0</td>\n",
       "      <td>1</td>\n",
       "      <td>3</td>\n",
       "      <td>0</td>\n",
       "      <td>3</td>\n",
       "      <td>8</td>\n",
       "      <td>0</td>\n",
       "    </tr>\n",
       "    <tr>\n",
       "      <th>201588</th>\n",
       "      <td>W</td>\n",
       "      <td>23</td>\n",
       "      <td>0</td>\n",
       "      <td>3</td>\n",
       "      <td>0</td>\n",
       "      <td>2</td>\n",
       "      <td>1</td>\n",
       "      <td>2</td>\n",
       "      <td>2</td>\n",
       "      <td>3</td>\n",
       "      <td>5</td>\n",
       "      <td>3</td>\n",
       "      <td>0</td>\n",
       "      <td>1</td>\n",
       "      <td>1</td>\n",
       "      <td>5</td>\n",
       "      <td>1</td>\n",
       "      <td>-6</td>\n",
       "    </tr>\n",
       "    <tr>\n",
       "      <th>...</th>\n",
       "      <th>...</th>\n",
       "      <th>...</th>\n",
       "      <td>...</td>\n",
       "      <td>...</td>\n",
       "      <td>...</td>\n",
       "      <td>...</td>\n",
       "      <td>...</td>\n",
       "      <td>...</td>\n",
       "      <td>...</td>\n",
       "      <td>...</td>\n",
       "      <td>...</td>\n",
       "      <td>...</td>\n",
       "      <td>...</td>\n",
       "      <td>...</td>\n",
       "      <td>...</td>\n",
       "      <td>...</td>\n",
       "      <td>...</td>\n",
       "      <td>...</td>\n",
       "      <td>...</td>\n",
       "      <td>...</td>\n",
       "    </tr>\n",
       "    <tr>\n",
       "      <th rowspan=\"5\" valign=\"top\">22024</th>\n",
       "      <th rowspan=\"5\" valign=\"top\">22401230</th>\n",
       "      <th>1631106</th>\n",
       "      <td>L</td>\n",
       "      <td>17</td>\n",
       "      <td>3</td>\n",
       "      <td>8</td>\n",
       "      <td>2</td>\n",
       "      <td>6</td>\n",
       "      <td>4</td>\n",
       "      <td>6</td>\n",
       "      <td>0</td>\n",
       "      <td>2</td>\n",
       "      <td>2</td>\n",
       "      <td>0</td>\n",
       "      <td>0</td>\n",
       "      <td>1</td>\n",
       "      <td>0</td>\n",
       "      <td>4</td>\n",
       "      <td>12</td>\n",
       "      <td>-12</td>\n",
       "    </tr>\n",
       "    <tr>\n",
       "      <th>1631114</th>\n",
       "      <td>W</td>\n",
       "      <td>39</td>\n",
       "      <td>8</td>\n",
       "      <td>20</td>\n",
       "      <td>2</td>\n",
       "      <td>5</td>\n",
       "      <td>2</td>\n",
       "      <td>2</td>\n",
       "      <td>0</td>\n",
       "      <td>5</td>\n",
       "      <td>5</td>\n",
       "      <td>5</td>\n",
       "      <td>1</td>\n",
       "      <td>0</td>\n",
       "      <td>3</td>\n",
       "      <td>2</td>\n",
       "      <td>20</td>\n",
       "      <td>10</td>\n",
       "    </tr>\n",
       "    <tr>\n",
       "      <th>1641708</th>\n",
       "      <td>L</td>\n",
       "      <td>30</td>\n",
       "      <td>9</td>\n",
       "      <td>15</td>\n",
       "      <td>0</td>\n",
       "      <td>1</td>\n",
       "      <td>1</td>\n",
       "      <td>3</td>\n",
       "      <td>4</td>\n",
       "      <td>3</td>\n",
       "      <td>7</td>\n",
       "      <td>1</td>\n",
       "      <td>3</td>\n",
       "      <td>0</td>\n",
       "      <td>4</td>\n",
       "      <td>3</td>\n",
       "      <td>19</td>\n",
       "      <td>-14</td>\n",
       "    </tr>\n",
       "    <tr>\n",
       "      <th>1641717</th>\n",
       "      <td>W</td>\n",
       "      <td>32</td>\n",
       "      <td>2</td>\n",
       "      <td>6</td>\n",
       "      <td>1</td>\n",
       "      <td>4</td>\n",
       "      <td>0</td>\n",
       "      <td>0</td>\n",
       "      <td>1</td>\n",
       "      <td>5</td>\n",
       "      <td>6</td>\n",
       "      <td>2</td>\n",
       "      <td>1</td>\n",
       "      <td>1</td>\n",
       "      <td>2</td>\n",
       "      <td>3</td>\n",
       "      <td>5</td>\n",
       "      <td>8</td>\n",
       "    </tr>\n",
       "    <tr>\n",
       "      <th>1642349</th>\n",
       "      <td>W</td>\n",
       "      <td>9</td>\n",
       "      <td>0</td>\n",
       "      <td>0</td>\n",
       "      <td>0</td>\n",
       "      <td>0</td>\n",
       "      <td>2</td>\n",
       "      <td>2</td>\n",
       "      <td>0</td>\n",
       "      <td>2</td>\n",
       "      <td>2</td>\n",
       "      <td>1</td>\n",
       "      <td>0</td>\n",
       "      <td>0</td>\n",
       "      <td>0</td>\n",
       "      <td>1</td>\n",
       "      <td>2</td>\n",
       "      <td>8</td>\n",
       "    </tr>\n",
       "  </tbody>\n",
       "</table>\n",
       "<p>104641 rows × 18 columns</p>\n",
       "</div>"
      ],
      "text/plain": [
       "                             WL  MIN  FGM  FGA  FG3M  FG3A  FTM  FTA  OREB  \\\n",
       "SEASON_ID GAME_ID  PLAYER_ID                                                 \n",
       "22021     22100001 200746     L   16    0    2     0     0    1    4     0   \n",
       "                   200794     L    5    0    0     0     0    0    0     1   \n",
       "                   201142     L   30   13   25     3     7    3    6     0   \n",
       "                   201572     W   28    3    9     2     4    0    0     2   \n",
       "                   201588     W   23    0    3     0     2    1    2     2   \n",
       "...                          ..  ...  ...  ...   ...   ...  ...  ...   ...   \n",
       "22024     22401230 1631106    L   17    3    8     2     6    4    6     0   \n",
       "                   1631114    W   39    8   20     2     5    2    2     0   \n",
       "                   1641708    L   30    9   15     0     1    1    3     4   \n",
       "                   1641717    W   32    2    6     1     4    0    0     1   \n",
       "                   1642349    W    9    0    0     0     0    2    2     0   \n",
       "\n",
       "                              DREB  REB  AST  STL  BLK  TOV  PF  PTS  \\\n",
       "SEASON_ID GAME_ID  PLAYER_ID                                           \n",
       "22021     22100001 200746        3    3    1    0    1    1   2    1   \n",
       "                   200794        2    3    0    0    1    1   0    0   \n",
       "                   201142       11   11    4    0    2    1   2   32   \n",
       "                   201572        3    5    0    1    3    0   3    8   \n",
       "                   201588        3    5    3    0    1    1   5    1   \n",
       "...                            ...  ...  ...  ...  ...  ...  ..  ...   \n",
       "22024     22401230 1631106       2    2    0    0    1    0   4   12   \n",
       "                   1631114       5    5    5    1    0    3   2   20   \n",
       "                   1641708       3    7    1    3    0    4   3   19   \n",
       "                   1641717       5    6    2    1    1    2   3    5   \n",
       "                   1642349       2    2    1    0    0    0   1    2   \n",
       "\n",
       "                              PLUS_MINUS  \n",
       "SEASON_ID GAME_ID  PLAYER_ID              \n",
       "22021     22100001 200746              2  \n",
       "                   200794             -1  \n",
       "                   201142            -20  \n",
       "                   201572              0  \n",
       "                   201588             -6  \n",
       "...                                  ...  \n",
       "22024     22401230 1631106           -12  \n",
       "                   1631114            10  \n",
       "                   1641708           -14  \n",
       "                   1641717             8  \n",
       "                   1642349             8  \n",
       "\n",
       "[104641 rows x 18 columns]"
      ]
     },
     "execution_count": 66,
     "metadata": {},
     "output_type": "execute_result"
    }
   ],
   "source": [
    "player_gamelogs_df"
   ]
  },
  {
   "cell_type": "code",
   "execution_count": 67,
   "id": "b29e677e-07a2-48fe-a15a-40b5e2850ca7",
   "metadata": {},
   "outputs": [
    {
     "name": "stdout",
     "output_type": "stream",
     "text": [
      "<class 'pandas.core.frame.DataFrame'>\n",
      "MultiIndex: 104641 entries, (np.int64(22021), np.int64(22100001), np.int64(200746)) to (np.int64(22024), np.int64(22401230), np.int64(1642349))\n",
      "Data columns (total 18 columns):\n",
      " #   Column      Non-Null Count   Dtype \n",
      "---  ------      --------------   ----- \n",
      " 0   WL          104641 non-null  object\n",
      " 1   MIN         104641 non-null  int64 \n",
      " 2   FGM         104641 non-null  int64 \n",
      " 3   FGA         104641 non-null  int64 \n",
      " 4   FG3M        104641 non-null  int64 \n",
      " 5   FG3A        104641 non-null  int64 \n",
      " 6   FTM         104641 non-null  int64 \n",
      " 7   FTA         104641 non-null  int64 \n",
      " 8   OREB        104641 non-null  int64 \n",
      " 9   DREB        104641 non-null  int64 \n",
      " 10  REB         104641 non-null  int64 \n",
      " 11  AST         104641 non-null  int64 \n",
      " 12  STL         104641 non-null  int64 \n",
      " 13  BLK         104641 non-null  int64 \n",
      " 14  TOV         104641 non-null  int64 \n",
      " 15  PF          104641 non-null  int64 \n",
      " 16  PTS         104641 non-null  int64 \n",
      " 17  PLUS_MINUS  104641 non-null  int64 \n",
      "dtypes: int64(17), object(1)\n",
      "memory usage: 15.1+ MB\n"
     ]
    }
   ],
   "source": [
    "player_gamelogs_df.info()"
   ]
  },
  {
   "cell_type": "code",
   "execution_count": 71,
   "id": "ca9ba278-ef40-4867-b7b8-bd89ad12230f",
   "metadata": {},
   "outputs": [
    {
     "name": "stderr",
     "output_type": "stream",
     "text": [
      "/tmp/ipykernel_9647/1418774378.py:1: FutureWarning: Downcasting behavior in `replace` is deprecated and will be removed in a future version. To retain the old behavior, explicitly call `result.infer_objects(copy=False)`. To opt-in to the future behavior, set `pd.set_option('future.no_silent_downcasting', True)`\n",
      "  player_gamelogs_df['WL'] = player_gamelogs_df['WL'].replace({'W': True, 'L': False})\n"
     ]
    }
   ],
   "source": [
    "player_gamelogs_df['WL'] = player_gamelogs_df['WL'].replace({'W': True, 'L': False})"
   ]
  },
  {
   "cell_type": "code",
   "execution_count": 75,
   "id": "af2e41a0-5407-4d2a-8edc-a2485c9b19bc",
   "metadata": {},
   "outputs": [],
   "source": [
    "int_cols = player_gamelogs_df.select_dtypes(include=['int64']).columns\n",
    "player_gamelogs_df[int_cols] = player_gamelogs_df[int_cols].apply(pd.to_numeric, downcast='unsigned')"
   ]
  },
  {
   "cell_type": "code",
   "execution_count": 77,
   "id": "3fd3db30-f638-4180-98d9-f66c3a1ba0b2",
   "metadata": {},
   "outputs": [],
   "source": [
    "player_gamelogs_df['PLUS_MINUS'] = pd.to_numeric(player_gamelogs_df['PLUS_MINUS'], downcast='signed')"
   ]
  },
  {
   "cell_type": "code",
   "execution_count": 78,
   "id": "5faa2d6a-e414-493b-a968-d279d6a70bb9",
   "metadata": {},
   "outputs": [
    {
     "data": {
      "text/plain": [
       "WL             bool\n",
       "MIN           uint8\n",
       "FGM           uint8\n",
       "FGA           uint8\n",
       "FG3M          uint8\n",
       "FG3A          uint8\n",
       "FTM           uint8\n",
       "FTA           uint8\n",
       "OREB          uint8\n",
       "DREB          uint8\n",
       "REB           uint8\n",
       "AST           uint8\n",
       "STL           uint8\n",
       "BLK           uint8\n",
       "TOV           uint8\n",
       "PF            uint8\n",
       "PTS           uint8\n",
       "PLUS_MINUS     int8\n",
       "dtype: object"
      ]
     },
     "execution_count": 78,
     "metadata": {},
     "output_type": "execute_result"
    }
   ],
   "source": [
    "player_gamelogs_df.dtypes"
   ]
  },
  {
   "cell_type": "code",
   "execution_count": 79,
   "id": "2c78abb1-aa55-4862-ad0a-8fd16efc2001",
   "metadata": {},
   "outputs": [
    {
     "name": "stdout",
     "output_type": "stream",
     "text": [
      "Original df memory: 56.27 MB\n",
      "Optimized df memory: 2.50 MB\n",
      "Memory saved: 53.77 MB (95.6%)\n"
     ]
    }
   ],
   "source": [
    "original_memory = pd.concat(player_gamelogs).memory_usage(deep=True).sum()\n",
    "optimized_memory = player_gamelogs_df.memory_usage(deep=True).sum()\n",
    "\n",
    "print(f\"Original df memory: {original_memory / 1024**2:.2f} MB\")\n",
    "print(f\"Optimized df memory: {optimized_memory / 1024**2:.2f} MB\")\n",
    "print(f\"Memory saved: {(original_memory - optimized_memory) / 1024**2:.2f} MB ({(1 - optimized_memory/original_memory)*100:.1f}%)\")"
   ]
  },
  {
   "cell_type": "markdown",
   "id": "e1b4d5fb-84ab-475b-afaa-41baf6c6c7e9",
   "metadata": {
    "jp-MarkdownHeadingCollapsed": true
   },
   "source": [
    "### Gamelogs Validation"
   ]
  },
  {
   "cell_type": "markdown",
   "id": "9643f1e3-a0e0-4caa-8491-95dc93eb3dec",
   "metadata": {},
   "source": [
    "Now that we have cleaned the gamelogs, it is time to validate the data. "
   ]
  },
  {
   "cell_type": "code",
   "execution_count": 80,
   "id": "6463a025-d834-4ddc-a2e4-972814ad3aab",
   "metadata": {},
   "outputs": [],
   "source": [
    "team_game_ids = set(team_gamelogs_df.index.get_level_values('GAME_ID'))\n",
    "player_game_ids = set(player_gamelogs_df.index.get_level_values('GAME_ID'))"
   ]
  },
  {
   "cell_type": "code",
   "execution_count": 82,
   "id": "ed4bc2d8-c599-4980-9284-7cfe239f6023",
   "metadata": {},
   "outputs": [],
   "source": [
    "assert team_game_ids == player_game_ids, (\n",
    "    f\"Game ID mismatch! \"\n",
    "    f\"Team IDs: {len(team_game_ids)}, Player IDs: {len(player_game_ids)}. \"\n",
    "    f\"Difference: {team_game_ids ^ player_game_ids}\"\n",
    ")"
   ]
  },
  {
   "cell_type": "code",
   "execution_count": 129,
   "id": "6320e6c6-a698-418c-b0ab-b91dea6f1489",
   "metadata": {},
   "outputs": [
    {
     "name": "stdout",
     "output_type": "stream",
     "text": [
      "{'DREB', 'FTM', 'STL', 'PTS', 'FGM', 'AST', 'MIN', 'FTA', 'FG3M', 'WL', 'PF', 'REB', 'FGA', 'OREB', 'BLK', 'TOV', 'FG3A'}\n"
     ]
    }
   ],
   "source": [
    "commonstats = set(team_gamelogs_df.columns) & set(player_gamelogs_df.columns)\n",
    "print(commonstats)"
   ]
  },
  {
   "cell_type": "code",
   "execution_count": 116,
   "id": "7cd6180d-6af5-4467-b2a9-014d7c233e19",
   "metadata": {},
   "outputs": [],
   "source": [
    "stats2check = commonstats ^ {'MIN', 'WL'}"
   ]
  },
  {
   "cell_type": "code",
   "execution_count": 126,
   "id": "a3d69c7b-7320-46cd-b7eb-2b3b08045f3e",
   "metadata": {},
   "outputs": [],
   "source": [
    "discrepancies = []\n",
    "for game_id in team_game_ids:\n",
    "    T_df = team_gamelogs_df.xs(game_id, level='GAME_ID')\n",
    "    assert len(T_df) == 2\n",
    "\n",
    "    P_df = player_gamelogs_df.xs(game_id, level='GAME_ID')\n",
    "    \n",
    "    for WL_status in [True, False]:\n",
    "        team = T_df[T_df['WL'] == WL_status].iloc[0]\n",
    "        assert team['DREB'] + team['OREB'] == team['REB']\n",
    "        \n",
    "        players = P_df[P_df['WL'] == WL_status]\n",
    "        assert len(players) >= 5\n",
    "\n",
    "        players_summed = players.sum()        \n",
    "        assert players_summed['DREB'] + players_summed['OREB'] == players_summed['REB'] \n",
    "    \n",
    "        for stat in stats2check:\n",
    "            team_stat = team[stat]  \n",
    "            players_stat = players_summed[stat]\n",
    "            diff = team_stat - players_stat\n",
    "\n",
    "            if abs(diff) > 0.0:\n",
    "                discrepancies.append({\n",
    "                    'game_id': game_id,\n",
    "                    'stat': stat,\n",
    "                    'team_stat': team_stat,\n",
    "                    'players_stat': players_stat,\n",
    "                    'diff': diff\n",
    "                })\n",
    "\n",
    "discrepancies_df = pd.DataFrame(discrepancies)"
   ]
  },
  {
   "cell_type": "code",
   "execution_count": 127,
   "id": "322375ba-22a1-46d8-9f70-abb77c80e8f4",
   "metadata": {},
   "outputs": [
    {
     "data": {
      "text/plain": [
       "array(['TOV'], dtype=object)"
      ]
     },
     "execution_count": 127,
     "metadata": {},
     "output_type": "execute_result"
    }
   ],
   "source": [
    "discrepancies_df['stat'].unique()"
   ]
  },
  {
   "cell_type": "code",
   "execution_count": 128,
   "id": "9a2d195d-b5e0-4de2-8f3a-e5fd1a7becaa",
   "metadata": {},
   "outputs": [
    {
     "data": {
      "text/plain": [
       "array([1., 2., 3., 4., 5., 6., 7.])"
      ]
     },
     "execution_count": 128,
     "metadata": {},
     "output_type": "execute_result"
    }
   ],
   "source": [
    "discrepancies_df['diff'].unique()"
   ]
  },
  {
   "cell_type": "markdown",
   "id": "a9381330-7073-4f68-9669-416faf88013e",
   "metadata": {},
   "source": [
    "The only stat that appears to be discrepant between team and players gamelogs is 'TOV', that is because a team can lose the possession without any player losing the ball.  "
   ]
  },
  {
   "cell_type": "markdown",
   "id": "957102dc-8835-4900-ada9-e87f6e9740e4",
   "metadata": {},
   "source": [
    "### Saving Gamelogs"
   ]
  },
  {
   "cell_type": "code",
   "execution_count": 142,
   "id": "703fab5b-0518-42c1-9487-608161eda641",
   "metadata": {},
   "outputs": [],
   "source": [
    "for season_id, season_df in team_gamelogs_df.groupby(level='SEASON_ID'):\n",
    "    season_path = data_path / f\"rs{season_id}\"\n",
    "    \n",
    "    for game_id, game_df in season_df.groupby(level='GAME_ID'):    \n",
    "        game_path = season_path / f\"g00{game_id}\"\n",
    "        \n",
    "        teams_df = game_df.reset_index(['SEASON_ID', 'GAME_ID'], drop=True)    \n",
    "        teams_df.to_parquet(game_path / \"teams_gamelog.parquet\")\n",
    "        \n",
    "        players_df = player_gamelogs_df.xs(game_id, level='GAME_ID').reset_index('SEASON_ID', drop=True)\n",
    "        players_df.to_parquet(game_path / \"players_gamelog.parquet\")    "
   ]
  },
  {
   "cell_type": "code",
   "execution_count": null,
   "id": "9fe3704a-970b-4d1c-959c-b152a3e8bbcb",
   "metadata": {},
   "outputs": [],
   "source": [
    "teams_gamelogs = []\n",
    "players_gamelogs = []\n",
    "for season_dir in data_path.iterdir():\n",
    "    for game_dir in season_dir.iterdir():\n",
    "        if game_dir.is_dir() and game_dir.name.startswith('g'):\n",
    "            teams_gamelogs.append(pd.read_parquet(game_dir / \"teams_gamelog.parquet\"))\n",
    "            players_gamelogs.append(pd.read_parquet(game_dir / \"players_gamelog.parquet\"))\n",
    "\n",
    "assert len(teams_gamelogs) == len(players_gamelogs)"
   ]
  },
  {
   "cell_type": "code",
   "execution_count": null,
   "id": "6a9cf1c5-2dc0-4113-bc5a-fe76df2c58d4",
   "metadata": {},
   "outputs": [],
   "source": []
  }
 ],
 "metadata": {
  "kernelspec": {
   "display_name": "Python 3 (ipykernel)",
   "language": "python",
   "name": "python3"
  },
  "language_info": {
   "codemirror_mode": {
    "name": "ipython",
    "version": 3
   },
   "file_extension": ".py",
   "mimetype": "text/x-python",
   "name": "python",
   "nbconvert_exporter": "python",
   "pygments_lexer": "ipython3",
   "version": "3.13.5"
  }
 },
 "nbformat": 4,
 "nbformat_minor": 5
}
