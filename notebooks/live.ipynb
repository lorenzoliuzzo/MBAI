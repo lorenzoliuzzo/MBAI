{
 "cells": [
  {
   "cell_type": "code",
   "execution_count": 1,
   "id": "9ae806d8-9c30-449f-b4bd-6c3460736316",
   "metadata": {},
   "outputs": [],
   "source": [
    "import pandas as pd"
   ]
  },
  {
   "cell_type": "code",
   "execution_count": 2,
   "id": "20eeffe6-0115-4621-923b-a180274cb23c",
   "metadata": {},
   "outputs": [],
   "source": [
    "GAME_ID = '0022400630'"
   ]
  },
  {
   "cell_type": "code",
   "execution_count": 3,
   "id": "a1555f40-305b-4ad6-a567-3c8bba8d10ca",
   "metadata": {},
   "outputs": [
    {
     "data": {
      "text/plain": [
       "\u001b[31mInit signature:\u001b[39m PlayByPlay(game_id, proxy=\u001b[38;5;28;01mNone\u001b[39;00m, headers=\u001b[38;5;28;01mNone\u001b[39;00m, timeout=\u001b[32m30\u001b[39m, get_request=\u001b[38;5;28;01mTrue\u001b[39;00m)\n",
       "\u001b[31mDocstring:\u001b[39m      <no docstring>\n",
       "\u001b[31mFile:\u001b[39m           ~/anaconda3/envs/MBAI/lib/python3.13/site-packages/nba_api/live/nba/endpoints/playbyplay.py\n",
       "\u001b[31mType:\u001b[39m           type\n",
       "\u001b[31mSubclasses:\u001b[39m     "
      ]
     },
     "metadata": {},
     "output_type": "display_data"
    }
   ],
   "source": [
    "from nba_api.live.nba.endpoints import PlayByPlay\n",
    "\n",
    "PlayByPlay?"
   ]
  },
  {
   "cell_type": "code",
   "execution_count": 4,
   "id": "279accd6-bee4-451f-822d-ca3812a6fab8",
   "metadata": {},
   "outputs": [],
   "source": [
    "pbp = PlayByPlay(GAME_ID)"
   ]
  },
  {
   "cell_type": "code",
   "execution_count": 118,
   "id": "d93c2275-910a-4473-8f33-319f06d0623d",
   "metadata": {},
   "outputs": [],
   "source": [
    "df = pd.DataFrame(pbp.get_dict()['game']['actions'])"
   ]
  },
  {
   "cell_type": "raw",
   "id": "40130081-feee-44a1-830c-a10664ec80f2",
   "metadata": {},
   "source": []
  },
  {
   "cell_type": "code",
   "execution_count": 119,
   "id": "8cf80268-f9c8-43fc-87ab-80e176e34006",
   "metadata": {},
   "outputs": [
    {
     "data": {
      "text/plain": [
       "Index(['actionNumber', 'clock', 'timeActual', 'period', 'periodType',\n",
       "       'actionType', 'subType', 'qualifiers', 'personId', 'x', 'y',\n",
       "       'possession', 'scoreHome', 'scoreAway', 'edited', 'orderNumber',\n",
       "       'isTargetScoreLastPeriod', 'xLegacy', 'yLegacy', 'isFieldGoal', 'side',\n",
       "       'description', 'personIdsFilter', 'teamId', 'teamTricode', 'descriptor',\n",
       "       'jumpBallRecoveredName', 'jumpBallRecoverdPersonId', 'playerName',\n",
       "       'playerNameI', 'jumpBallWonPlayerName', 'jumpBallWonPersonId',\n",
       "       'jumpBallLostPlayerName', 'jumpBallLostPersonId', 'area', 'areaDetail',\n",
       "       'shotDistance', 'shotResult', 'blockPlayerName', 'blockPersonId',\n",
       "       'shotActionNumber', 'reboundTotal', 'reboundDefensiveTotal',\n",
       "       'reboundOffensiveTotal', 'pointsTotal', 'assistPlayerNameInitial',\n",
       "       'assistPersonId', 'assistTotal', 'officialId', 'foulPersonalTotal',\n",
       "       'foulTechnicalTotal', 'foulDrawnPlayerName', 'foulDrawnPersonId',\n",
       "       'turnoverTotal', 'stealPlayerName', 'stealPersonId'],\n",
       "      dtype='object')"
      ]
     },
     "execution_count": 119,
     "metadata": {},
     "output_type": "execute_result"
    }
   ],
   "source": [
    "df.columns"
   ]
  },
  {
   "cell_type": "code",
   "execution_count": 120,
   "id": "467580ea-c5ed-40f2-a1a9-ce83061934b0",
   "metadata": {},
   "outputs": [],
   "source": [
    "cols2drop = [\n",
    "    'actionNumber', 'periodType', 'edited', 'orderNumber',\n",
    "    'isTargetScoreLastPeriod', 'isFieldGoal', 'side', 'personIdsFilter',\n",
    "    'teamTricode', 'jumpBallRecoveredName', 'playerName',\n",
    "    'playerNameI', 'jumpBallWonPlayerName', 'jumpBallLostPlayerName', \n",
    "    'blockPlayerName', 'shotActionNumber', 'reboundTotal', 'reboundDefensiveTotal',\n",
    "    'reboundOffensiveTotal', 'pointsTotal', 'assistPlayerNameInitial',\n",
    "    'assistTotal', 'foulPersonalTotal', 'foulTechnicalTotal', \n",
    "    'foulDrawnPlayerName', 'turnoverTotal', 'stealPlayerName'\n",
    "]\n",
    "\n",
    "df.drop(columns=cols2drop, inplace=True)"
   ]
  },
  {
   "cell_type": "code",
   "execution_count": 121,
   "id": "3277ecf9-5541-4805-9a42-24bb082fe5b1",
   "metadata": {},
   "outputs": [
    {
     "name": "stdout",
     "output_type": "stream",
     "text": [
      "<class 'pandas.core.frame.DataFrame'>\n",
      "RangeIndex: 611 entries, 0 to 610\n",
      "Data columns (total 29 columns):\n",
      " #   Column                    Non-Null Count  Dtype  \n",
      "---  ------                    --------------  -----  \n",
      " 0   clock                     611 non-null    object \n",
      " 1   timeActual                611 non-null    object \n",
      " 2   period                    611 non-null    int64  \n",
      " 3   actionType                611 non-null    object \n",
      " 4   subType                   611 non-null    object \n",
      " 5   qualifiers                611 non-null    object \n",
      " 6   personId                  611 non-null    int64  \n",
      " 7   x                         164 non-null    float64\n",
      " 8   y                         164 non-null    float64\n",
      " 9   possession                611 non-null    int64  \n",
      " 10  scoreHome                 611 non-null    object \n",
      " 11  scoreAway                 611 non-null    object \n",
      " 12  xLegacy                   164 non-null    float64\n",
      " 13  yLegacy                   164 non-null    float64\n",
      " 14  description               611 non-null    object \n",
      " 15  teamId                    602 non-null    float64\n",
      " 16  descriptor                157 non-null    object \n",
      " 17  jumpBallRecoverdPersonId  1 non-null      float64\n",
      " 18  jumpBallWonPersonId       1 non-null      float64\n",
      " 19  jumpBallLostPersonId      1 non-null      float64\n",
      " 20  area                      378 non-null    object \n",
      " 21  areaDetail                378 non-null    object \n",
      " 22  shotDistance              164 non-null    float64\n",
      " 23  shotResult                231 non-null    object \n",
      " 24  blockPersonId             12 non-null     float64\n",
      " 25  assistPersonId            37 non-null     float64\n",
      " 26  officialId                64 non-null     float64\n",
      " 27  foulDrawnPersonId         49 non-null     float64\n",
      " 28  stealPersonId             21 non-null     float64\n",
      "dtypes: float64(14), int64(3), object(12)\n",
      "memory usage: 138.6+ KB\n"
     ]
    }
   ],
   "source": [
    "df.info()"
   ]
  },
  {
   "cell_type": "raw",
   "id": "ff902ba5-9f11-4713-b68a-78f626ccff15",
   "metadata": {},
   "source": []
  },
  {
   "cell_type": "code",
   "execution_count": 152,
   "id": "4f57ffbe-961b-42cf-9825-1c5d8df14366",
   "metadata": {},
   "outputs": [
    {
     "data": {
      "text/html": [
       "<div>\n",
       "<style scoped>\n",
       "    .dataframe tbody tr th:only-of-type {\n",
       "        vertical-align: middle;\n",
       "    }\n",
       "\n",
       "    .dataframe tbody tr th {\n",
       "        vertical-align: top;\n",
       "    }\n",
       "\n",
       "    .dataframe thead th {\n",
       "        text-align: right;\n",
       "    }\n",
       "</style>\n",
       "<table border=\"1\" class=\"dataframe\">\n",
       "  <thead>\n",
       "    <tr style=\"text-align: right;\">\n",
       "      <th></th>\n",
       "      <th>clock</th>\n",
       "      <th>timeActual</th>\n",
       "    </tr>\n",
       "  </thead>\n",
       "  <tbody>\n",
       "    <tr>\n",
       "      <th>0</th>\n",
       "      <td>0 days 00:12:00</td>\n",
       "      <td>2025-01-25 00:10:48.500000+00:00</td>\n",
       "    </tr>\n",
       "    <tr>\n",
       "      <th>1</th>\n",
       "      <td>0 days 00:11:57</td>\n",
       "      <td>2025-01-25 00:10:50.500000+00:00</td>\n",
       "    </tr>\n",
       "    <tr>\n",
       "      <th>2</th>\n",
       "      <td>0 days 00:11:37</td>\n",
       "      <td>2025-01-25 00:11:10.200000+00:00</td>\n",
       "    </tr>\n",
       "    <tr>\n",
       "      <th>3</th>\n",
       "      <td>0 days 00:11:37</td>\n",
       "      <td>2025-01-25 00:11:10.200000+00:00</td>\n",
       "    </tr>\n",
       "    <tr>\n",
       "      <th>4</th>\n",
       "      <td>0 days 00:11:34</td>\n",
       "      <td>2025-01-25 00:11:13.200000+00:00</td>\n",
       "    </tr>\n",
       "    <tr>\n",
       "      <th>...</th>\n",
       "      <td>...</td>\n",
       "      <td>...</td>\n",
       "    </tr>\n",
       "    <tr>\n",
       "      <th>606</th>\n",
       "      <td>0 days 00:00:10.700000</td>\n",
       "      <td>2025-01-25 02:30:23.300000+00:00</td>\n",
       "    </tr>\n",
       "    <tr>\n",
       "      <th>607</th>\n",
       "      <td>0 days 00:00:03.300000</td>\n",
       "      <td>2025-01-25 02:30:35.800000+00:00</td>\n",
       "    </tr>\n",
       "    <tr>\n",
       "      <th>608</th>\n",
       "      <td>0 days 00:00:00</td>\n",
       "      <td>2025-01-25 02:30:44.700000+00:00</td>\n",
       "    </tr>\n",
       "    <tr>\n",
       "      <th>609</th>\n",
       "      <td>0 days 00:00:00</td>\n",
       "      <td>2025-01-25 02:30:53.700000+00:00</td>\n",
       "    </tr>\n",
       "    <tr>\n",
       "      <th>610</th>\n",
       "      <td>0 days 00:00:00</td>\n",
       "      <td>2025-01-25 02:30:57.900000+00:00</td>\n",
       "    </tr>\n",
       "  </tbody>\n",
       "</table>\n",
       "<p>611 rows × 2 columns</p>\n",
       "</div>"
      ],
      "text/plain": [
       "                     clock                       timeActual\n",
       "0          0 days 00:12:00 2025-01-25 00:10:48.500000+00:00\n",
       "1          0 days 00:11:57 2025-01-25 00:10:50.500000+00:00\n",
       "2          0 days 00:11:37 2025-01-25 00:11:10.200000+00:00\n",
       "3          0 days 00:11:37 2025-01-25 00:11:10.200000+00:00\n",
       "4          0 days 00:11:34 2025-01-25 00:11:13.200000+00:00\n",
       "..                     ...                              ...\n",
       "606 0 days 00:00:10.700000 2025-01-25 02:30:23.300000+00:00\n",
       "607 0 days 00:00:03.300000 2025-01-25 02:30:35.800000+00:00\n",
       "608        0 days 00:00:00 2025-01-25 02:30:44.700000+00:00\n",
       "609        0 days 00:00:00 2025-01-25 02:30:53.700000+00:00\n",
       "610        0 days 00:00:00 2025-01-25 02:30:57.900000+00:00\n",
       "\n",
       "[611 rows x 2 columns]"
      ]
     },
     "execution_count": 152,
     "metadata": {},
     "output_type": "execute_result"
    }
   ],
   "source": [
    "df[['clock', 'timeActual']]"
   ]
  },
  {
   "cell_type": "markdown",
   "id": "a208e5a3-1745-44ba-8356-b40abc9fb172",
   "metadata": {},
   "source": [
    "This is not giving back the correct result as 'ms'."
   ]
  },
  {
   "cell_type": "code",
   "execution_count": 159,
   "id": "c96cac07-04ed-49a8-bfa4-0b9799e842a5",
   "metadata": {},
   "outputs": [],
   "source": [
    "df['clock'] = pd.to_timedelta(df['clock'], unit='ms')\n",
    "df['timeActual'] = pd.to_datetime(df['timeActual'], unit='ms')"
   ]
  },
  {
   "cell_type": "raw",
   "id": "b7d08aaa-23e4-4723-ac96-51eddc6f5d84",
   "metadata": {},
   "source": []
  },
  {
   "cell_type": "code",
   "execution_count": 124,
   "id": "7ea53a0d-df59-4c3c-8535-0feb9aec9197",
   "metadata": {},
   "outputs": [
    {
     "data": {
      "text/plain": [
       "array([1, 2, 3, 4])"
      ]
     },
     "execution_count": 124,
     "metadata": {},
     "output_type": "execute_result"
    }
   ],
   "source": [
    "df['period'].unique()"
   ]
  },
  {
   "cell_type": "code",
   "execution_count": 125,
   "id": "c2e5f897-2a64-45f3-bbfa-3a088ac698ee",
   "metadata": {},
   "outputs": [],
   "source": [
    "df['period'] = df['period'].astype('uint8')"
   ]
  },
  {
   "cell_type": "raw",
   "id": "c55b4e7b-2815-4867-b64b-022cd88d472e",
   "metadata": {},
   "source": []
  },
  {
   "cell_type": "code",
   "execution_count": 126,
   "id": "775787ae-298f-486a-9be3-65d8edb1758e",
   "metadata": {},
   "outputs": [
    {
     "data": {
      "text/plain": [
       "array(['period', 'jumpball', '2pt', 'block', 'rebound', '3pt', 'foul',\n",
       "       'substitution', 'timeout', 'turnover', 'steal', 'freethrow',\n",
       "       'violation', 'game'], dtype=object)"
      ]
     },
     "execution_count": 126,
     "metadata": {},
     "output_type": "execute_result"
    }
   ],
   "source": [
    "df['actionType'].unique()"
   ]
  },
  {
   "cell_type": "code",
   "execution_count": 127,
   "id": "0356b113-5027-4f1b-8838-c0f6207965c6",
   "metadata": {},
   "outputs": [
    {
     "data": {
      "text/plain": [
       "{'2pt': ['DUNK', 'Jump Shot', 'Layup', 'Hook'],\n",
       " '3pt': ['Jump Shot'],\n",
       " 'block': [''],\n",
       " 'foul': ['personal', 'offensive', 'technical'],\n",
       " 'freethrow': ['1 of 2', '2 of 2', '1 of 1'],\n",
       " 'game': ['end'],\n",
       " 'jumpball': ['recovered'],\n",
       " 'period': ['start', 'end'],\n",
       " 'rebound': ['defensive', 'offensive'],\n",
       " 'steal': [''],\n",
       " 'substitution': ['out', 'in'],\n",
       " 'timeout': ['full'],\n",
       " 'turnover': ['out-of-bounds',\n",
       "  'traveling',\n",
       "  'lost ball',\n",
       "  'bad pass',\n",
       "  'offensive foul',\n",
       "  'shot clock'],\n",
       " 'violation': ['kicked ball',\n",
       "  'defensive goaltending',\n",
       "  'lane',\n",
       "  'delay-of-game']}"
      ]
     },
     "execution_count": 127,
     "metadata": {},
     "output_type": "execute_result"
    }
   ],
   "source": [
    "action_types = [action for action in df['actionType'].unique() if action != '']\n",
    "action_subtypes = {\n",
    "    action: action_df['subType'].unique().tolist()\n",
    "        for action, action_df in df.groupby('actionType') if action != ''\n",
    "}\n",
    "\n",
    "action_subtypes"
   ]
  },
  {
   "cell_type": "raw",
   "id": "68c15bdc-4fb6-490c-9da5-3491580a7b89",
   "metadata": {},
   "source": []
  },
  {
   "cell_type": "code",
   "execution_count": 128,
   "id": "b71ec54d-cf21-48d3-96da-6b191e135b02",
   "metadata": {},
   "outputs": [
    {
     "data": {
      "text/html": [
       "<div>\n",
       "<style scoped>\n",
       "    .dataframe tbody tr th:only-of-type {\n",
       "        vertical-align: middle;\n",
       "    }\n",
       "\n",
       "    .dataframe tbody tr th {\n",
       "        vertical-align: top;\n",
       "    }\n",
       "\n",
       "    .dataframe thead th {\n",
       "        text-align: right;\n",
       "    }\n",
       "</style>\n",
       "<table border=\"1\" class=\"dataframe\">\n",
       "  <thead>\n",
       "    <tr style=\"text-align: right;\">\n",
       "      <th></th>\n",
       "      <th>actionType</th>\n",
       "      <th>subType</th>\n",
       "      <th>qualifiers</th>\n",
       "      <th>description</th>\n",
       "      <th>descriptor</th>\n",
       "    </tr>\n",
       "  </thead>\n",
       "  <tbody>\n",
       "    <tr>\n",
       "      <th>0</th>\n",
       "      <td>period</td>\n",
       "      <td>start</td>\n",
       "      <td>[]</td>\n",
       "      <td>Period Start</td>\n",
       "      <td>NaN</td>\n",
       "    </tr>\n",
       "    <tr>\n",
       "      <th>1</th>\n",
       "      <td>jumpball</td>\n",
       "      <td>recovered</td>\n",
       "      <td>[]</td>\n",
       "      <td>Jump Ball M. Williams vs. D. Clingan: Tip to V...</td>\n",
       "      <td>startperiod</td>\n",
       "    </tr>\n",
       "    <tr>\n",
       "      <th>2</th>\n",
       "      <td>2pt</td>\n",
       "      <td>DUNK</td>\n",
       "      <td>[pointsinthepaint]</td>\n",
       "      <td>MISS M. Williams cutting DUNK - blocked</td>\n",
       "      <td>cutting</td>\n",
       "    </tr>\n",
       "    <tr>\n",
       "      <th>3</th>\n",
       "      <td>block</td>\n",
       "      <td></td>\n",
       "      <td>[]</td>\n",
       "      <td>D. Clingan BLOCK (1 BLK)</td>\n",
       "      <td>NaN</td>\n",
       "    </tr>\n",
       "    <tr>\n",
       "      <th>4</th>\n",
       "      <td>rebound</td>\n",
       "      <td>defensive</td>\n",
       "      <td>[]</td>\n",
       "      <td>D. Clingan REBOUND (Off:0 Def:1)</td>\n",
       "      <td>NaN</td>\n",
       "    </tr>\n",
       "    <tr>\n",
       "      <th>...</th>\n",
       "      <td>...</td>\n",
       "      <td>...</td>\n",
       "      <td>...</td>\n",
       "      <td>...</td>\n",
       "      <td>...</td>\n",
       "    </tr>\n",
       "    <tr>\n",
       "      <th>606</th>\n",
       "      <td>2pt</td>\n",
       "      <td>DUNK</td>\n",
       "      <td>[pointsinthepaint, 2ndchance]</td>\n",
       "      <td>M. Williams cutting DUNK (13 PTS) (J. Green 2 ...</td>\n",
       "      <td>cutting</td>\n",
       "    </tr>\n",
       "    <tr>\n",
       "      <th>607</th>\n",
       "      <td>2pt</td>\n",
       "      <td>DUNK</td>\n",
       "      <td>[pointsinthepaint]</td>\n",
       "      <td>T. Camara driving DUNK (11 PTS) (A. Simons 2 AST)</td>\n",
       "      <td>driving</td>\n",
       "    </tr>\n",
       "    <tr>\n",
       "      <th>608</th>\n",
       "      <td>2pt</td>\n",
       "      <td>Layup</td>\n",
       "      <td>[pointsinthepaint]</td>\n",
       "      <td>M. Williams cutting Layup (15 PTS) (N. Smith J...</td>\n",
       "      <td>cutting</td>\n",
       "    </tr>\n",
       "    <tr>\n",
       "      <th>609</th>\n",
       "      <td>period</td>\n",
       "      <td>end</td>\n",
       "      <td>[]</td>\n",
       "      <td>Period End</td>\n",
       "      <td>NaN</td>\n",
       "    </tr>\n",
       "    <tr>\n",
       "      <th>610</th>\n",
       "      <td>game</td>\n",
       "      <td>end</td>\n",
       "      <td>[]</td>\n",
       "      <td>Game End</td>\n",
       "      <td>NaN</td>\n",
       "    </tr>\n",
       "  </tbody>\n",
       "</table>\n",
       "<p>611 rows × 5 columns</p>\n",
       "</div>"
      ],
      "text/plain": [
       "    actionType    subType                     qualifiers  \\\n",
       "0       period      start                             []   \n",
       "1     jumpball  recovered                             []   \n",
       "2          2pt       DUNK             [pointsinthepaint]   \n",
       "3        block                                        []   \n",
       "4      rebound  defensive                             []   \n",
       "..         ...        ...                            ...   \n",
       "606        2pt       DUNK  [pointsinthepaint, 2ndchance]   \n",
       "607        2pt       DUNK             [pointsinthepaint]   \n",
       "608        2pt      Layup             [pointsinthepaint]   \n",
       "609     period        end                             []   \n",
       "610       game        end                             []   \n",
       "\n",
       "                                           description   descriptor  \n",
       "0                                         Period Start          NaN  \n",
       "1    Jump Ball M. Williams vs. D. Clingan: Tip to V...  startperiod  \n",
       "2              MISS M. Williams cutting DUNK - blocked      cutting  \n",
       "3                             D. Clingan BLOCK (1 BLK)          NaN  \n",
       "4                     D. Clingan REBOUND (Off:0 Def:1)          NaN  \n",
       "..                                                 ...          ...  \n",
       "606  M. Williams cutting DUNK (13 PTS) (J. Green 2 ...      cutting  \n",
       "607  T. Camara driving DUNK (11 PTS) (A. Simons 2 AST)      driving  \n",
       "608  M. Williams cutting Layup (15 PTS) (N. Smith J...      cutting  \n",
       "609                                         Period End          NaN  \n",
       "610                                           Game End          NaN  \n",
       "\n",
       "[611 rows x 5 columns]"
      ]
     },
     "execution_count": 128,
     "metadata": {},
     "output_type": "execute_result"
    }
   ],
   "source": [
    "df[['actionType', 'subType', 'qualifiers', 'description', 'descriptor']]"
   ]
  },
  {
   "cell_type": "code",
   "execution_count": 129,
   "id": "6bd66006-1281-4222-81a7-adabbb5aef84",
   "metadata": {},
   "outputs": [
    {
     "data": {
      "text/plain": [
       "{'1freethrow',\n",
       " '2freethrow',\n",
       " '2ndchance',\n",
       " 'deadball',\n",
       " 'defensivegoaltending',\n",
       " 'fastbreak',\n",
       " 'fromturnover',\n",
       " 'inpenalty',\n",
       " 'mandatory',\n",
       " 'pointsinthepaint',\n",
       " 'startperiod',\n",
       " 'team'}"
      ]
     },
     "execution_count": 129,
     "metadata": {},
     "output_type": "execute_result"
    }
   ],
   "source": [
    "qualifiers_set = set()\n",
    "for qualifiers in df['qualifiers']:\n",
    "    for qualifier in qualifiers: \n",
    "        qualifiers_set.add(qualifier)\n",
    "\n",
    "qualifiers_set"
   ]
  },
  {
   "cell_type": "code",
   "execution_count": 130,
   "id": "3000e70d-e344-46fb-92b0-39f15cc727cf",
   "metadata": {},
   "outputs": [
    {
     "data": {
      "text/plain": [
       "array([nan, 'startperiod', 'cutting', 'pullup', 'running', 'turnaround',\n",
       "       'driving floating bank', 'putback', 'step back',\n",
       "       'running alley-oop', 'driving floating', 'running pullup',\n",
       "       'bad pass', 'tip', 'driving finger roll', 'driving', 'shooting',\n",
       "       'turnaround fadeaway', 'charge', 'alley-oop', 'loose ball',\n",
       "       'lost ball', 'floating', 'driving reverse', 'defensive-3-second',\n",
       "       'technical', 'running finger roll', 'take'], dtype=object)"
      ]
     },
     "execution_count": 130,
     "metadata": {},
     "output_type": "execute_result"
    }
   ],
   "source": [
    "df['descriptor'].unique()"
   ]
  },
  {
   "cell_type": "raw",
   "id": "4810c70c-8ff4-490b-ab86-26366ec378b4",
   "metadata": {},
   "source": []
  },
  {
   "cell_type": "code",
   "execution_count": 131,
   "id": "959a84ee-c229-4814-8bef-1cdbb44fc3ea",
   "metadata": {},
   "outputs": [
    {
     "data": {
      "text/html": [
       "<div>\n",
       "<style scoped>\n",
       "    .dataframe tbody tr th:only-of-type {\n",
       "        vertical-align: middle;\n",
       "    }\n",
       "\n",
       "    .dataframe tbody tr th {\n",
       "        vertical-align: top;\n",
       "    }\n",
       "\n",
       "    .dataframe thead th {\n",
       "        text-align: right;\n",
       "    }\n",
       "</style>\n",
       "<table border=\"1\" class=\"dataframe\">\n",
       "  <thead>\n",
       "    <tr style=\"text-align: right;\">\n",
       "      <th></th>\n",
       "      <th>x</th>\n",
       "      <th>y</th>\n",
       "      <th>xLegacy</th>\n",
       "      <th>yLegacy</th>\n",
       "    </tr>\n",
       "  </thead>\n",
       "  <tbody>\n",
       "    <tr>\n",
       "      <th>0</th>\n",
       "      <td>NaN</td>\n",
       "      <td>NaN</td>\n",
       "      <td>NaN</td>\n",
       "      <td>NaN</td>\n",
       "    </tr>\n",
       "    <tr>\n",
       "      <th>1</th>\n",
       "      <td>NaN</td>\n",
       "      <td>NaN</td>\n",
       "      <td>NaN</td>\n",
       "      <td>NaN</td>\n",
       "    </tr>\n",
       "    <tr>\n",
       "      <th>2</th>\n",
       "      <td>8.886334</td>\n",
       "      <td>51.960784</td>\n",
       "      <td>-10.0</td>\n",
       "      <td>31.0</td>\n",
       "    </tr>\n",
       "    <tr>\n",
       "      <th>3</th>\n",
       "      <td>NaN</td>\n",
       "      <td>NaN</td>\n",
       "      <td>NaN</td>\n",
       "      <td>NaN</td>\n",
       "    </tr>\n",
       "    <tr>\n",
       "      <th>4</th>\n",
       "      <td>NaN</td>\n",
       "      <td>NaN</td>\n",
       "      <td>NaN</td>\n",
       "      <td>NaN</td>\n",
       "    </tr>\n",
       "    <tr>\n",
       "      <th>...</th>\n",
       "      <td>...</td>\n",
       "      <td>...</td>\n",
       "      <td>...</td>\n",
       "      <td>...</td>\n",
       "    </tr>\n",
       "    <tr>\n",
       "      <th>606</th>\n",
       "      <td>94.037451</td>\n",
       "      <td>51.715686</td>\n",
       "      <td>9.0</td>\n",
       "      <td>4.0</td>\n",
       "    </tr>\n",
       "    <tr>\n",
       "      <th>607</th>\n",
       "      <td>7.440867</td>\n",
       "      <td>52.696078</td>\n",
       "      <td>-13.0</td>\n",
       "      <td>17.0</td>\n",
       "    </tr>\n",
       "    <tr>\n",
       "      <th>608</th>\n",
       "      <td>94.431669</td>\n",
       "      <td>47.058824</td>\n",
       "      <td>-15.0</td>\n",
       "      <td>0.0</td>\n",
       "    </tr>\n",
       "    <tr>\n",
       "      <th>609</th>\n",
       "      <td>NaN</td>\n",
       "      <td>NaN</td>\n",
       "      <td>NaN</td>\n",
       "      <td>NaN</td>\n",
       "    </tr>\n",
       "    <tr>\n",
       "      <th>610</th>\n",
       "      <td>NaN</td>\n",
       "      <td>NaN</td>\n",
       "      <td>NaN</td>\n",
       "      <td>NaN</td>\n",
       "    </tr>\n",
       "  </tbody>\n",
       "</table>\n",
       "<p>611 rows × 4 columns</p>\n",
       "</div>"
      ],
      "text/plain": [
       "             x          y  xLegacy  yLegacy\n",
       "0          NaN        NaN      NaN      NaN\n",
       "1          NaN        NaN      NaN      NaN\n",
       "2     8.886334  51.960784    -10.0     31.0\n",
       "3          NaN        NaN      NaN      NaN\n",
       "4          NaN        NaN      NaN      NaN\n",
       "..         ...        ...      ...      ...\n",
       "606  94.037451  51.715686      9.0      4.0\n",
       "607   7.440867  52.696078    -13.0     17.0\n",
       "608  94.431669  47.058824    -15.0      0.0\n",
       "609        NaN        NaN      NaN      NaN\n",
       "610        NaN        NaN      NaN      NaN\n",
       "\n",
       "[611 rows x 4 columns]"
      ]
     },
     "execution_count": 131,
     "metadata": {},
     "output_type": "execute_result"
    }
   ],
   "source": [
    "df[['x', 'y', 'xLegacy', 'yLegacy']]"
   ]
  },
  {
   "cell_type": "code",
   "execution_count": 132,
   "id": "442a47fe-6efb-456b-a55f-8eba30ff40d6",
   "metadata": {},
   "outputs": [],
   "source": [
    "assert all(df['x'].dropna() >= 0) and all(df['y'].dropna() >= 0)\n",
    "assert all(df['xLegacy'].dropna() == df['xLegacy'].dropna().astype('int')) and all(df['yLegacy'].dropna() == df['yLegacy'].dropna().astype('int'))"
   ]
  },
  {
   "cell_type": "code",
   "execution_count": 133,
   "id": "0a66ee45-a7b3-40d4-b4af-6487acc9a147",
   "metadata": {},
   "outputs": [],
   "source": [
    "df.drop(columns=['xLegacy', 'yLegacy'], inplace=True)\n",
    "\n",
    "df['x'] = df['x'].fillna(-1).astype('float16')\n",
    "df['y'] = df['y'].fillna(-1).astype('float16')"
   ]
  },
  {
   "cell_type": "raw",
   "id": "886bb0b0-3b99-4cef-a718-adb697fd051c",
   "metadata": {},
   "source": []
  },
  {
   "cell_type": "code",
   "execution_count": 134,
   "id": "5025b029-8476-4e6f-9f1b-597b415b7562",
   "metadata": {},
   "outputs": [
    {
     "data": {
      "text/plain": [
       "array([nan, 'Restricted Area', 'Mid-Range', 'In The Paint (Non-RA)',\n",
       "       'Above the Break 3', 'Left Corner 3', 'Right Corner 3'],\n",
       "      dtype=object)"
      ]
     },
     "execution_count": 134,
     "metadata": {},
     "output_type": "execute_result"
    }
   ],
   "source": [
    "df['area'].unique()"
   ]
  },
  {
   "cell_type": "code",
   "execution_count": 135,
   "id": "5c0d4e0e-66e4-4679-9976-bdc9312230f5",
   "metadata": {},
   "outputs": [
    {
     "data": {
      "text/plain": [
       "array([nan, '0-8 Center', '8-16 Right', '8-16 Center', '24+ Right Center',\n",
       "       '24+ Left', '24+ Right', '16-24 Right Center', '8-16 Left',\n",
       "       '24+ Left Center', '16-24 Center', '24+ Center', '16-24 Right',\n",
       "       '16-24 Left Center'], dtype=object)"
      ]
     },
     "execution_count": 135,
     "metadata": {},
     "output_type": "execute_result"
    }
   ],
   "source": [
    "df['areaDetail'].unique()"
   ]
  },
  {
   "cell_type": "raw",
   "id": "a01315f1-447e-4c77-8b7f-ca79692035e1",
   "metadata": {},
   "source": []
  },
  {
   "cell_type": "code",
   "execution_count": 136,
   "id": "e45687cf-2ebe-4c1e-82dc-1ec23d6bfec8",
   "metadata": {},
   "outputs": [
    {
     "data": {
      "text/plain": [
       "array([nan, 'Missed', 'Made'], dtype=object)"
      ]
     },
     "execution_count": 136,
     "metadata": {},
     "output_type": "execute_result"
    }
   ],
   "source": [
    "df['shotResult'].unique()"
   ]
  },
  {
   "cell_type": "code",
   "execution_count": 137,
   "id": "2e26e8c2-dcbe-4155-bfb0-de5430f8ef31",
   "metadata": {},
   "outputs": [],
   "source": [
    "df['shotResult'] = df['shotResult'].replace({'Made': True, 'Missed': False, 'nan': pd.NA})"
   ]
  },
  {
   "cell_type": "raw",
   "id": "41743933-2ec5-4e8e-97db-5948eaf0d16b",
   "metadata": {},
   "source": []
  },
  {
   "cell_type": "code",
   "execution_count": 138,
   "id": "ec6ea772-f069-4a76-b085-a736f3ca5b2f",
   "metadata": {},
   "outputs": [
    {
     "data": {
      "text/plain": [
       "clock                         0\n",
       "timeActual                    0\n",
       "period                        0\n",
       "actionType                    0\n",
       "subType                       0\n",
       "qualifiers                    0\n",
       "personId                      0\n",
       "x                             0\n",
       "y                             0\n",
       "possession                    0\n",
       "scoreHome                     0\n",
       "scoreAway                     0\n",
       "description                   0\n",
       "teamId                        9\n",
       "descriptor                  454\n",
       "jumpBallRecoverdPersonId    610\n",
       "jumpBallWonPersonId         610\n",
       "jumpBallLostPersonId        610\n",
       "area                        233\n",
       "areaDetail                  233\n",
       "shotDistance                447\n",
       "shotResult                  380\n",
       "blockPersonId               599\n",
       "assistPersonId              574\n",
       "officialId                  547\n",
       "foulDrawnPersonId           562\n",
       "stealPersonId               590\n",
       "dtype: int64"
      ]
     },
     "execution_count": 138,
     "metadata": {},
     "output_type": "execute_result"
    }
   ],
   "source": [
    "df.isna().sum()"
   ]
  },
  {
   "cell_type": "code",
   "execution_count": 139,
   "id": "d2457f26-418e-4f10-a3df-b9ac9bb35e13",
   "metadata": {},
   "outputs": [
    {
     "data": {
      "text/plain": [
       "array([     nan, 1626301., 1628487.,  204059.])"
      ]
     },
     "execution_count": 139,
     "metadata": {},
     "output_type": "execute_result"
    }
   ],
   "source": [
    "df['officialId'].unique()"
   ]
  },
  {
   "cell_type": "code",
   "execution_count": 140,
   "id": "d01d8733-5b06-4b44-b6d4-7c2f1065ba79",
   "metadata": {},
   "outputs": [],
   "source": [
    "df['officialId'] = df['officialId'].fillna(0).astype('uint32')"
   ]
  },
  {
   "cell_type": "code",
   "execution_count": null,
   "id": "28943216-8006-4763-bf61-6027ac43599a",
   "metadata": {},
   "outputs": [],
   "source": []
  },
  {
   "cell_type": "code",
   "execution_count": 141,
   "id": "35b28e25-af28-4ddc-a6a0-11e64541af0f",
   "metadata": {},
   "outputs": [],
   "source": [
    "df['personId'] = df['personId'].astype('uint32')\n",
    "df['teamId'] = df['teamId'].fillna(0).astype('uint32')\n",
    "df['possession'] = df['possession'].astype('uint32')\n",
    "df['jumpBallRecoverdPersonId'] = df['jumpBallRecoverdPersonId'].fillna(0).astype('uint32')\n",
    "df['jumpBallWonPersonId'] = df['jumpBallWonPersonId'].fillna(0).astype('uint32')\n",
    "df['jumpBallLostPersonId'] = df['jumpBallLostPersonId'].fillna(0).astype('uint32')\n",
    "df['assistPersonId'] = df['assistPersonId'].fillna(0).astype('uint32')\n",
    "df['blockPersonId'] = df['blockPersonId'].fillna(0).astype('uint32')\n",
    "df['stealPersonId'] = df['stealPersonId'].fillna(0).astype('uint32')\n",
    "df['foulDrawnPersonId'] = df['foulDrawnPersonId'].fillna(0).astype('uint32')\n",
    "\n",
    "df['scoreHome'] = df['scoreHome'].astype('uint8')\n",
    "df['scoreAway'] = df['scoreAway'].astype('uint8')\n",
    "\n",
    "df['shotDistance'] = df['shotDistance'].fillna(-1).astype('float16')"
   ]
  },
  {
   "cell_type": "code",
   "execution_count": 157,
   "id": "c47f20e0-33a3-40c1-b867-ba7b2ce98291",
   "metadata": {},
   "outputs": [
    {
     "data": {
      "text/plain": [
       "clock                           timedelta64[ns]\n",
       "timeActual                  datetime64[ns, UTC]\n",
       "period                                    uint8\n",
       "actionType                               object\n",
       "subType                                  object\n",
       "qualifiers                               object\n",
       "personId                                 uint32\n",
       "x                                       float16\n",
       "y                                       float16\n",
       "possession                               uint32\n",
       "scoreHome                                 uint8\n",
       "scoreAway                                 uint8\n",
       "description                              object\n",
       "teamId                                   uint32\n",
       "descriptor                               object\n",
       "jumpBallRecoverdPersonId                 uint32\n",
       "jumpBallWonPersonId                      uint32\n",
       "jumpBallLostPersonId                     uint32\n",
       "area                                     object\n",
       "areaDetail                               object\n",
       "shotDistance                            float16\n",
       "shotResult                               object\n",
       "blockPersonId                            uint32\n",
       "assistPersonId                           uint32\n",
       "officialId                               uint32\n",
       "foulDrawnPersonId                        uint32\n",
       "stealPersonId                            uint32\n",
       "dtype: object"
      ]
     },
     "execution_count": 157,
     "metadata": {},
     "output_type": "execute_result"
    }
   ],
   "source": [
    "df.dtypes"
   ]
  },
  {
   "cell_type": "code",
   "execution_count": 160,
   "id": "3573a6a7-e2c5-44cc-858f-c7c067da7fe1",
   "metadata": {},
   "outputs": [
    {
     "name": "stdout",
     "output_type": "stream",
     "text": [
      "Original teams df memory: 0.91 MB\n",
      "Optimized teams df memory: 0.30 MB\n",
      "Memory saved: 0.61 MB (67.2%)\n"
     ]
    }
   ],
   "source": [
    "original_memory = pd.DataFrame(pbp.get_dict()['game']['actions']).memory_usage(deep=True).sum()\n",
    "optimized_memory = df.memory_usage(deep=True).sum()\n",
    "\n",
    "print(f\"Original teams df memory: {original_memory / 1024**2:.2f} MB\")\n",
    "print(f\"Optimized teams df memory: {optimized_memory / 1024**2:.2f} MB\")\n",
    "print(f\"Memory saved: {(original_memory - optimized_memory) / 1024**2:.2f} MB ({(1 - optimized_memory/original_memory)*100:.1f}%)\")"
   ]
  },
  {
   "cell_type": "code",
   "execution_count": null,
   "id": "94cee364-0320-4ef4-a1c2-acbf6456962a",
   "metadata": {},
   "outputs": [],
   "source": []
  },
  {
   "cell_type": "code",
   "execution_count": null,
   "id": "8f536097-cd77-4361-8b88-fe5c93163ba1",
   "metadata": {},
   "outputs": [],
   "source": []
  },
  {
   "cell_type": "code",
   "execution_count": null,
   "id": "d23b9bf5-d516-469b-94c2-df7e77ef2f11",
   "metadata": {},
   "outputs": [],
   "source": []
  }
 ],
 "metadata": {
  "kernelspec": {
   "display_name": "Python 3 (ipykernel)",
   "language": "python",
   "name": "python3"
  },
  "language_info": {
   "codemirror_mode": {
    "name": "ipython",
    "version": 3
   },
   "file_extension": ".py",
   "mimetype": "text/x-python",
   "name": "python",
   "nbconvert_exporter": "python",
   "pygments_lexer": "ipython3",
   "version": "3.13.5"
  }
 },
 "nbformat": 4,
 "nbformat_minor": 5
}
