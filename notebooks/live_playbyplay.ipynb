{
 "cells": [
  {
   "cell_type": "markdown",
   "id": "baff4b8e-7d4f-4d76-92d6-08086e1a22a6",
   "metadata": {},
   "source": [
    "# Live PlayByPlay data exploration\n",
    "In this notebook we'll explore the data obtained from the live `PlayByPlay` endpoint (https://github.com/swar/nba_api/blob/master/docs/nba_api/live/endpoints/playbyplay.md)."
   ]
  },
  {
   "cell_type": "code",
   "execution_count": 1,
   "id": "9ae806d8-9c30-449f-b4bd-6c3460736316",
   "metadata": {},
   "outputs": [],
   "source": [
    "import pandas as pd"
   ]
  },
  {
   "cell_type": "code",
   "execution_count": 2,
   "id": "20eeffe6-0115-4621-923b-a180274cb23c",
   "metadata": {},
   "outputs": [],
   "source": [
    "GAME_ID = '0022400630'"
   ]
  },
  {
   "cell_type": "code",
   "execution_count": 3,
   "id": "a1555f40-305b-4ad6-a567-3c8bba8d10ca",
   "metadata": {},
   "outputs": [
    {
     "data": {
      "text/plain": [
       "\u001b[31mInit signature:\u001b[39m PlayByPlay(game_id, proxy=\u001b[38;5;28;01mNone\u001b[39;00m, headers=\u001b[38;5;28;01mNone\u001b[39;00m, timeout=\u001b[32m30\u001b[39m, get_request=\u001b[38;5;28;01mTrue\u001b[39;00m)\n",
       "\u001b[31mDocstring:\u001b[39m      <no docstring>\n",
       "\u001b[31mFile:\u001b[39m           ~/anaconda3/envs/MBAI/lib/python3.13/site-packages/nba_api/live/nba/endpoints/playbyplay.py\n",
       "\u001b[31mType:\u001b[39m           type\n",
       "\u001b[31mSubclasses:\u001b[39m     "
      ]
     },
     "metadata": {},
     "output_type": "display_data"
    }
   ],
   "source": [
    "from nba_api.live.nba.endpoints import PlayByPlay\n",
    "\n",
    "PlayByPlay?"
   ]
  },
  {
   "cell_type": "code",
   "execution_count": 4,
   "id": "279accd6-bee4-451f-822d-ca3812a6fab8",
   "metadata": {},
   "outputs": [],
   "source": [
    "pbp = PlayByPlay(GAME_ID)"
   ]
  },
  {
   "cell_type": "code",
   "execution_count": 5,
   "id": "81871a1a-6037-4138-adcd-a702023d8f43",
   "metadata": {},
   "outputs": [
    {
     "data": {
      "text/plain": [
       "dict_keys(['meta', 'game'])"
      ]
     },
     "execution_count": 5,
     "metadata": {},
     "output_type": "execute_result"
    }
   ],
   "source": [
    "pbp.get_dict().keys()"
   ]
  },
  {
   "cell_type": "code",
   "execution_count": 6,
   "id": "15101a51-9808-4da3-9072-823cc99dac95",
   "metadata": {},
   "outputs": [
    {
     "data": {
      "text/plain": [
       "dict_keys(['gameId', 'actions'])"
      ]
     },
     "execution_count": 6,
     "metadata": {},
     "output_type": "execute_result"
    }
   ],
   "source": [
    "pbp.get_dict()['game'].keys()"
   ]
  },
  {
   "cell_type": "raw",
   "id": "40130081-feee-44a1-830c-a10664ec80f2",
   "metadata": {},
   "source": []
  },
  {
   "cell_type": "code",
   "execution_count": 7,
   "id": "d93c2275-910a-4473-8f33-319f06d0623d",
   "metadata": {},
   "outputs": [],
   "source": [
    "df = pd.DataFrame(pbp.get_dict()['game']['actions'])"
   ]
  },
  {
   "cell_type": "code",
   "execution_count": 8,
   "id": "8cf80268-f9c8-43fc-87ab-80e176e34006",
   "metadata": {},
   "outputs": [
    {
     "data": {
      "text/plain": [
       "Index(['actionNumber', 'clock', 'timeActual', 'period', 'periodType',\n",
       "       'actionType', 'subType', 'qualifiers', 'personId', 'x', 'y',\n",
       "       'possession', 'scoreHome', 'scoreAway', 'edited', 'orderNumber',\n",
       "       'isTargetScoreLastPeriod', 'xLegacy', 'yLegacy', 'isFieldGoal', 'side',\n",
       "       'description', 'personIdsFilter', 'teamId', 'teamTricode', 'descriptor',\n",
       "       'jumpBallRecoveredName', 'jumpBallRecoverdPersonId', 'playerName',\n",
       "       'playerNameI', 'jumpBallWonPlayerName', 'jumpBallWonPersonId',\n",
       "       'jumpBallLostPlayerName', 'jumpBallLostPersonId', 'area', 'areaDetail',\n",
       "       'shotDistance', 'shotResult', 'blockPlayerName', 'blockPersonId',\n",
       "       'shotActionNumber', 'reboundTotal', 'reboundDefensiveTotal',\n",
       "       'reboundOffensiveTotal', 'pointsTotal', 'assistPlayerNameInitial',\n",
       "       'assistPersonId', 'assistTotal', 'officialId', 'foulPersonalTotal',\n",
       "       'foulTechnicalTotal', 'foulDrawnPlayerName', 'foulDrawnPersonId',\n",
       "       'turnoverTotal', 'stealPlayerName', 'stealPersonId'],\n",
       "      dtype='object')"
      ]
     },
     "execution_count": 8,
     "metadata": {},
     "output_type": "execute_result"
    }
   ],
   "source": [
    "df.columns"
   ]
  },
  {
   "cell_type": "code",
   "execution_count": 9,
   "id": "467580ea-c5ed-40f2-a1a9-ce83061934b0",
   "metadata": {},
   "outputs": [],
   "source": [
    "cols2drop = [\n",
    "    'actionNumber', 'periodType', 'edited', 'orderNumber',\n",
    "    'isTargetScoreLastPeriod', 'isFieldGoal', 'side', 'personIdsFilter',\n",
    "    'teamTricode', 'jumpBallRecoveredName', 'playerName',\n",
    "    'playerNameI', 'jumpBallWonPlayerName', 'jumpBallLostPlayerName', \n",
    "    'blockPlayerName', 'shotActionNumber', 'reboundTotal', 'reboundDefensiveTotal',\n",
    "    'reboundOffensiveTotal', 'pointsTotal', 'assistPlayerNameInitial',\n",
    "    'assistTotal', 'foulPersonalTotal', 'foulTechnicalTotal', \n",
    "    'foulDrawnPlayerName', 'turnoverTotal', 'stealPlayerName'\n",
    "]\n",
    "\n",
    "df.drop(columns=cols2drop, inplace=True)"
   ]
  },
  {
   "cell_type": "code",
   "execution_count": 10,
   "id": "3277ecf9-5541-4805-9a42-24bb082fe5b1",
   "metadata": {},
   "outputs": [
    {
     "name": "stdout",
     "output_type": "stream",
     "text": [
      "<class 'pandas.core.frame.DataFrame'>\n",
      "RangeIndex: 611 entries, 0 to 610\n",
      "Data columns (total 29 columns):\n",
      " #   Column                    Non-Null Count  Dtype  \n",
      "---  ------                    --------------  -----  \n",
      " 0   clock                     611 non-null    object \n",
      " 1   timeActual                611 non-null    object \n",
      " 2   period                    611 non-null    int64  \n",
      " 3   actionType                611 non-null    object \n",
      " 4   subType                   611 non-null    object \n",
      " 5   qualifiers                611 non-null    object \n",
      " 6   personId                  611 non-null    int64  \n",
      " 7   x                         164 non-null    float64\n",
      " 8   y                         164 non-null    float64\n",
      " 9   possession                611 non-null    int64  \n",
      " 10  scoreHome                 611 non-null    object \n",
      " 11  scoreAway                 611 non-null    object \n",
      " 12  xLegacy                   164 non-null    float64\n",
      " 13  yLegacy                   164 non-null    float64\n",
      " 14  description               611 non-null    object \n",
      " 15  teamId                    602 non-null    float64\n",
      " 16  descriptor                157 non-null    object \n",
      " 17  jumpBallRecoverdPersonId  1 non-null      float64\n",
      " 18  jumpBallWonPersonId       1 non-null      float64\n",
      " 19  jumpBallLostPersonId      1 non-null      float64\n",
      " 20  area                      378 non-null    object \n",
      " 21  areaDetail                378 non-null    object \n",
      " 22  shotDistance              164 non-null    float64\n",
      " 23  shotResult                231 non-null    object \n",
      " 24  blockPersonId             12 non-null     float64\n",
      " 25  assistPersonId            37 non-null     float64\n",
      " 26  officialId                64 non-null     float64\n",
      " 27  foulDrawnPersonId         49 non-null     float64\n",
      " 28  stealPersonId             21 non-null     float64\n",
      "dtypes: float64(14), int64(3), object(12)\n",
      "memory usage: 138.6+ KB\n"
     ]
    }
   ],
   "source": [
    "df.info()"
   ]
  },
  {
   "cell_type": "raw",
   "id": "ff902ba5-9f11-4713-b68a-78f626ccff15",
   "metadata": {},
   "source": []
  },
  {
   "cell_type": "code",
   "execution_count": 11,
   "id": "4f57ffbe-961b-42cf-9825-1c5d8df14366",
   "metadata": {},
   "outputs": [
    {
     "data": {
      "text/html": [
       "<div>\n",
       "<style scoped>\n",
       "    .dataframe tbody tr th:only-of-type {\n",
       "        vertical-align: middle;\n",
       "    }\n",
       "\n",
       "    .dataframe tbody tr th {\n",
       "        vertical-align: top;\n",
       "    }\n",
       "\n",
       "    .dataframe thead th {\n",
       "        text-align: right;\n",
       "    }\n",
       "</style>\n",
       "<table border=\"1\" class=\"dataframe\">\n",
       "  <thead>\n",
       "    <tr style=\"text-align: right;\">\n",
       "      <th></th>\n",
       "      <th>clock</th>\n",
       "      <th>timeActual</th>\n",
       "    </tr>\n",
       "  </thead>\n",
       "  <tbody>\n",
       "    <tr>\n",
       "      <th>0</th>\n",
       "      <td>PT12M00.00S</td>\n",
       "      <td>2025-01-25T00:10:48.5Z</td>\n",
       "    </tr>\n",
       "    <tr>\n",
       "      <th>1</th>\n",
       "      <td>PT11M57.00S</td>\n",
       "      <td>2025-01-25T00:10:50.5Z</td>\n",
       "    </tr>\n",
       "    <tr>\n",
       "      <th>2</th>\n",
       "      <td>PT11M37.00S</td>\n",
       "      <td>2025-01-25T00:11:10.2Z</td>\n",
       "    </tr>\n",
       "    <tr>\n",
       "      <th>3</th>\n",
       "      <td>PT11M37.00S</td>\n",
       "      <td>2025-01-25T00:11:10.2Z</td>\n",
       "    </tr>\n",
       "    <tr>\n",
       "      <th>4</th>\n",
       "      <td>PT11M34.00S</td>\n",
       "      <td>2025-01-25T00:11:13.2Z</td>\n",
       "    </tr>\n",
       "    <tr>\n",
       "      <th>...</th>\n",
       "      <td>...</td>\n",
       "      <td>...</td>\n",
       "    </tr>\n",
       "    <tr>\n",
       "      <th>606</th>\n",
       "      <td>PT00M10.70S</td>\n",
       "      <td>2025-01-25T02:30:23.3Z</td>\n",
       "    </tr>\n",
       "    <tr>\n",
       "      <th>607</th>\n",
       "      <td>PT00M03.30S</td>\n",
       "      <td>2025-01-25T02:30:35.8Z</td>\n",
       "    </tr>\n",
       "    <tr>\n",
       "      <th>608</th>\n",
       "      <td>PT00M00.00S</td>\n",
       "      <td>2025-01-25T02:30:44.7Z</td>\n",
       "    </tr>\n",
       "    <tr>\n",
       "      <th>609</th>\n",
       "      <td>PT00M00.00S</td>\n",
       "      <td>2025-01-25T02:30:53.7Z</td>\n",
       "    </tr>\n",
       "    <tr>\n",
       "      <th>610</th>\n",
       "      <td>PT00M00.00S</td>\n",
       "      <td>2025-01-25T02:30:57.9Z</td>\n",
       "    </tr>\n",
       "  </tbody>\n",
       "</table>\n",
       "<p>611 rows × 2 columns</p>\n",
       "</div>"
      ],
      "text/plain": [
       "           clock              timeActual\n",
       "0    PT12M00.00S  2025-01-25T00:10:48.5Z\n",
       "1    PT11M57.00S  2025-01-25T00:10:50.5Z\n",
       "2    PT11M37.00S  2025-01-25T00:11:10.2Z\n",
       "3    PT11M37.00S  2025-01-25T00:11:10.2Z\n",
       "4    PT11M34.00S  2025-01-25T00:11:13.2Z\n",
       "..           ...                     ...\n",
       "606  PT00M10.70S  2025-01-25T02:30:23.3Z\n",
       "607  PT00M03.30S  2025-01-25T02:30:35.8Z\n",
       "608  PT00M00.00S  2025-01-25T02:30:44.7Z\n",
       "609  PT00M00.00S  2025-01-25T02:30:53.7Z\n",
       "610  PT00M00.00S  2025-01-25T02:30:57.9Z\n",
       "\n",
       "[611 rows x 2 columns]"
      ]
     },
     "execution_count": 11,
     "metadata": {},
     "output_type": "execute_result"
    }
   ],
   "source": [
    "df[['clock', 'timeActual']]"
   ]
  },
  {
   "cell_type": "code",
   "execution_count": 12,
   "id": "c96cac07-04ed-49a8-bfa4-0b9799e842a5",
   "metadata": {},
   "outputs": [],
   "source": [
    "df['clock'] = pd.to_timedelta(df['clock'])\n",
    "df['timeActual'] = pd.to_datetime(df['timeActual'])"
   ]
  },
  {
   "cell_type": "raw",
   "id": "b7d08aaa-23e4-4723-ac96-51eddc6f5d84",
   "metadata": {},
   "source": []
  },
  {
   "cell_type": "code",
   "execution_count": 13,
   "id": "7ea53a0d-df59-4c3c-8535-0feb9aec9197",
   "metadata": {},
   "outputs": [
    {
     "data": {
      "text/plain": [
       "array([1, 2, 3, 4])"
      ]
     },
     "execution_count": 13,
     "metadata": {},
     "output_type": "execute_result"
    }
   ],
   "source": [
    "df['period'].unique()"
   ]
  },
  {
   "cell_type": "code",
   "execution_count": 14,
   "id": "c2e5f897-2a64-45f3-bbfa-3a088ac698ee",
   "metadata": {},
   "outputs": [],
   "source": [
    "df['period'] = df['period'].astype('uint8')"
   ]
  },
  {
   "cell_type": "raw",
   "id": "c55b4e7b-2815-4867-b64b-022cd88d472e",
   "metadata": {},
   "source": []
  },
  {
   "cell_type": "code",
   "execution_count": 15,
   "id": "775787ae-298f-486a-9be3-65d8edb1758e",
   "metadata": {},
   "outputs": [
    {
     "data": {
      "text/plain": [
       "array(['period', 'jumpball', '2pt', 'block', 'rebound', '3pt', 'foul',\n",
       "       'substitution', 'timeout', 'turnover', 'steal', 'freethrow',\n",
       "       'violation', 'game'], dtype=object)"
      ]
     },
     "execution_count": 15,
     "metadata": {},
     "output_type": "execute_result"
    }
   ],
   "source": [
    "df['actionType'].unique()"
   ]
  },
  {
   "cell_type": "code",
   "execution_count": 16,
   "id": "8894291c-67d3-4181-b0ab-3d8e7f4a217c",
   "metadata": {},
   "outputs": [],
   "source": [
    "df['actionType'] = df['actionType'].astype('string') "
   ]
  },
  {
   "cell_type": "code",
   "execution_count": 17,
   "id": "0356b113-5027-4f1b-8838-c0f6207965c6",
   "metadata": {},
   "outputs": [
    {
     "data": {
      "text/plain": [
       "{'2pt': ['DUNK', 'Jump Shot', 'Layup', 'Hook'],\n",
       " '3pt': ['Jump Shot'],\n",
       " 'block': [''],\n",
       " 'foul': ['personal', 'offensive', 'technical'],\n",
       " 'freethrow': ['1 of 2', '2 of 2', '1 of 1'],\n",
       " 'game': ['end'],\n",
       " 'jumpball': ['recovered'],\n",
       " 'period': ['start', 'end'],\n",
       " 'rebound': ['defensive', 'offensive'],\n",
       " 'steal': [''],\n",
       " 'substitution': ['out', 'in'],\n",
       " 'timeout': ['full'],\n",
       " 'turnover': ['out-of-bounds',\n",
       "  'traveling',\n",
       "  'lost ball',\n",
       "  'bad pass',\n",
       "  'offensive foul',\n",
       "  'shot clock'],\n",
       " 'violation': ['kicked ball',\n",
       "  'defensive goaltending',\n",
       "  'lane',\n",
       "  'delay-of-game']}"
      ]
     },
     "execution_count": 17,
     "metadata": {},
     "output_type": "execute_result"
    }
   ],
   "source": [
    "action_subtypes = {\n",
    "    action: action_df['subType'].unique().tolist()\n",
    "        for action, action_df in df.groupby('actionType')\n",
    "}\n",
    "\n",
    "action_subtypes"
   ]
  },
  {
   "cell_type": "code",
   "execution_count": 18,
   "id": "cb33a3ca-014d-459d-8dc0-bad917cc5d40",
   "metadata": {},
   "outputs": [],
   "source": [
    "df['subType'] = df['subType'].astype('string') "
   ]
  },
  {
   "cell_type": "raw",
   "id": "68c15bdc-4fb6-490c-9da5-3491580a7b89",
   "metadata": {},
   "source": []
  },
  {
   "cell_type": "code",
   "execution_count": 19,
   "id": "b71ec54d-cf21-48d3-96da-6b191e135b02",
   "metadata": {},
   "outputs": [
    {
     "data": {
      "text/html": [
       "<div>\n",
       "<style scoped>\n",
       "    .dataframe tbody tr th:only-of-type {\n",
       "        vertical-align: middle;\n",
       "    }\n",
       "\n",
       "    .dataframe tbody tr th {\n",
       "        vertical-align: top;\n",
       "    }\n",
       "\n",
       "    .dataframe thead th {\n",
       "        text-align: right;\n",
       "    }\n",
       "</style>\n",
       "<table border=\"1\" class=\"dataframe\">\n",
       "  <thead>\n",
       "    <tr style=\"text-align: right;\">\n",
       "      <th></th>\n",
       "      <th>actionType</th>\n",
       "      <th>subType</th>\n",
       "      <th>qualifiers</th>\n",
       "      <th>description</th>\n",
       "      <th>descriptor</th>\n",
       "    </tr>\n",
       "  </thead>\n",
       "  <tbody>\n",
       "    <tr>\n",
       "      <th>0</th>\n",
       "      <td>period</td>\n",
       "      <td>start</td>\n",
       "      <td>[]</td>\n",
       "      <td>Period Start</td>\n",
       "      <td>NaN</td>\n",
       "    </tr>\n",
       "    <tr>\n",
       "      <th>1</th>\n",
       "      <td>jumpball</td>\n",
       "      <td>recovered</td>\n",
       "      <td>[]</td>\n",
       "      <td>Jump Ball M. Williams vs. D. Clingan: Tip to V...</td>\n",
       "      <td>startperiod</td>\n",
       "    </tr>\n",
       "    <tr>\n",
       "      <th>2</th>\n",
       "      <td>2pt</td>\n",
       "      <td>DUNK</td>\n",
       "      <td>[pointsinthepaint]</td>\n",
       "      <td>MISS M. Williams cutting DUNK - blocked</td>\n",
       "      <td>cutting</td>\n",
       "    </tr>\n",
       "    <tr>\n",
       "      <th>3</th>\n",
       "      <td>block</td>\n",
       "      <td></td>\n",
       "      <td>[]</td>\n",
       "      <td>D. Clingan BLOCK (1 BLK)</td>\n",
       "      <td>NaN</td>\n",
       "    </tr>\n",
       "    <tr>\n",
       "      <th>4</th>\n",
       "      <td>rebound</td>\n",
       "      <td>defensive</td>\n",
       "      <td>[]</td>\n",
       "      <td>D. Clingan REBOUND (Off:0 Def:1)</td>\n",
       "      <td>NaN</td>\n",
       "    </tr>\n",
       "    <tr>\n",
       "      <th>...</th>\n",
       "      <td>...</td>\n",
       "      <td>...</td>\n",
       "      <td>...</td>\n",
       "      <td>...</td>\n",
       "      <td>...</td>\n",
       "    </tr>\n",
       "    <tr>\n",
       "      <th>606</th>\n",
       "      <td>2pt</td>\n",
       "      <td>DUNK</td>\n",
       "      <td>[pointsinthepaint, 2ndchance]</td>\n",
       "      <td>M. Williams cutting DUNK (13 PTS) (J. Green 2 ...</td>\n",
       "      <td>cutting</td>\n",
       "    </tr>\n",
       "    <tr>\n",
       "      <th>607</th>\n",
       "      <td>2pt</td>\n",
       "      <td>DUNK</td>\n",
       "      <td>[pointsinthepaint]</td>\n",
       "      <td>T. Camara driving DUNK (11 PTS) (A. Simons 2 AST)</td>\n",
       "      <td>driving</td>\n",
       "    </tr>\n",
       "    <tr>\n",
       "      <th>608</th>\n",
       "      <td>2pt</td>\n",
       "      <td>Layup</td>\n",
       "      <td>[pointsinthepaint]</td>\n",
       "      <td>M. Williams cutting Layup (15 PTS) (N. Smith J...</td>\n",
       "      <td>cutting</td>\n",
       "    </tr>\n",
       "    <tr>\n",
       "      <th>609</th>\n",
       "      <td>period</td>\n",
       "      <td>end</td>\n",
       "      <td>[]</td>\n",
       "      <td>Period End</td>\n",
       "      <td>NaN</td>\n",
       "    </tr>\n",
       "    <tr>\n",
       "      <th>610</th>\n",
       "      <td>game</td>\n",
       "      <td>end</td>\n",
       "      <td>[]</td>\n",
       "      <td>Game End</td>\n",
       "      <td>NaN</td>\n",
       "    </tr>\n",
       "  </tbody>\n",
       "</table>\n",
       "<p>611 rows × 5 columns</p>\n",
       "</div>"
      ],
      "text/plain": [
       "    actionType    subType                     qualifiers  \\\n",
       "0       period      start                             []   \n",
       "1     jumpball  recovered                             []   \n",
       "2          2pt       DUNK             [pointsinthepaint]   \n",
       "3        block                                        []   \n",
       "4      rebound  defensive                             []   \n",
       "..         ...        ...                            ...   \n",
       "606        2pt       DUNK  [pointsinthepaint, 2ndchance]   \n",
       "607        2pt       DUNK             [pointsinthepaint]   \n",
       "608        2pt      Layup             [pointsinthepaint]   \n",
       "609     period        end                             []   \n",
       "610       game        end                             []   \n",
       "\n",
       "                                           description   descriptor  \n",
       "0                                         Period Start          NaN  \n",
       "1    Jump Ball M. Williams vs. D. Clingan: Tip to V...  startperiod  \n",
       "2              MISS M. Williams cutting DUNK - blocked      cutting  \n",
       "3                             D. Clingan BLOCK (1 BLK)          NaN  \n",
       "4                     D. Clingan REBOUND (Off:0 Def:1)          NaN  \n",
       "..                                                 ...          ...  \n",
       "606  M. Williams cutting DUNK (13 PTS) (J. Green 2 ...      cutting  \n",
       "607  T. Camara driving DUNK (11 PTS) (A. Simons 2 AST)      driving  \n",
       "608  M. Williams cutting Layup (15 PTS) (N. Smith J...      cutting  \n",
       "609                                         Period End          NaN  \n",
       "610                                           Game End          NaN  \n",
       "\n",
       "[611 rows x 5 columns]"
      ]
     },
     "execution_count": 19,
     "metadata": {},
     "output_type": "execute_result"
    }
   ],
   "source": [
    "df[['actionType', 'subType', 'qualifiers', 'description', 'descriptor']]"
   ]
  },
  {
   "cell_type": "code",
   "execution_count": 20,
   "id": "6bd66006-1281-4222-81a7-adabbb5aef84",
   "metadata": {},
   "outputs": [
    {
     "data": {
      "text/plain": [
       "{'1freethrow',\n",
       " '2freethrow',\n",
       " '2ndchance',\n",
       " 'deadball',\n",
       " 'defensivegoaltending',\n",
       " 'fastbreak',\n",
       " 'fromturnover',\n",
       " 'inpenalty',\n",
       " 'mandatory',\n",
       " 'pointsinthepaint',\n",
       " 'startperiod',\n",
       " 'team'}"
      ]
     },
     "execution_count": 20,
     "metadata": {},
     "output_type": "execute_result"
    }
   ],
   "source": [
    "qualifiers_set = set()\n",
    "for qualifiers in df['qualifiers']:\n",
    "    for qualifier in qualifiers: \n",
    "        qualifiers_set.add(qualifier)\n",
    "\n",
    "qualifiers_set"
   ]
  },
  {
   "cell_type": "code",
   "execution_count": 21,
   "id": "d22705c0-e402-4996-a81d-755ac8ca6017",
   "metadata": {},
   "outputs": [],
   "source": [
    "df.drop(columns=['qualifiers', 'description'], inplace=True)"
   ]
  },
  {
   "cell_type": "code",
   "execution_count": 22,
   "id": "3000e70d-e344-46fb-92b0-39f15cc727cf",
   "metadata": {},
   "outputs": [
    {
     "data": {
      "text/plain": [
       "array([nan, 'startperiod', 'cutting', 'pullup', 'running', 'turnaround',\n",
       "       'driving floating bank', 'putback', 'step back',\n",
       "       'running alley-oop', 'driving floating', 'running pullup',\n",
       "       'bad pass', 'tip', 'driving finger roll', 'driving', 'shooting',\n",
       "       'turnaround fadeaway', 'charge', 'alley-oop', 'loose ball',\n",
       "       'lost ball', 'floating', 'driving reverse', 'defensive-3-second',\n",
       "       'technical', 'running finger roll', 'take'], dtype=object)"
      ]
     },
     "execution_count": 22,
     "metadata": {},
     "output_type": "execute_result"
    }
   ],
   "source": [
    "df['descriptor'].unique()"
   ]
  },
  {
   "cell_type": "code",
   "execution_count": 23,
   "id": "c59f54c4-7a1c-4120-940d-b22cb6be2f57",
   "metadata": {},
   "outputs": [],
   "source": [
    "df['descriptor'] = df['descriptor'].astype('string') "
   ]
  },
  {
   "cell_type": "raw",
   "id": "4810c70c-8ff4-490b-ab86-26366ec378b4",
   "metadata": {},
   "source": []
  },
  {
   "cell_type": "code",
   "execution_count": 24,
   "id": "959a84ee-c229-4814-8bef-1cdbb44fc3ea",
   "metadata": {},
   "outputs": [
    {
     "data": {
      "text/html": [
       "<div>\n",
       "<style scoped>\n",
       "    .dataframe tbody tr th:only-of-type {\n",
       "        vertical-align: middle;\n",
       "    }\n",
       "\n",
       "    .dataframe tbody tr th {\n",
       "        vertical-align: top;\n",
       "    }\n",
       "\n",
       "    .dataframe thead th {\n",
       "        text-align: right;\n",
       "    }\n",
       "</style>\n",
       "<table border=\"1\" class=\"dataframe\">\n",
       "  <thead>\n",
       "    <tr style=\"text-align: right;\">\n",
       "      <th></th>\n",
       "      <th>x</th>\n",
       "      <th>y</th>\n",
       "      <th>xLegacy</th>\n",
       "      <th>yLegacy</th>\n",
       "    </tr>\n",
       "  </thead>\n",
       "  <tbody>\n",
       "    <tr>\n",
       "      <th>2</th>\n",
       "      <td>8.886334</td>\n",
       "      <td>51.960784</td>\n",
       "      <td>-10.0</td>\n",
       "      <td>31.0</td>\n",
       "    </tr>\n",
       "    <tr>\n",
       "      <th>5</th>\n",
       "      <td>91.672142</td>\n",
       "      <td>75.490196</td>\n",
       "      <td>127.0</td>\n",
       "      <td>26.0</td>\n",
       "    </tr>\n",
       "    <tr>\n",
       "      <th>6</th>\n",
       "      <td>17.690539</td>\n",
       "      <td>46.323529</td>\n",
       "      <td>18.0</td>\n",
       "      <td>114.0</td>\n",
       "    </tr>\n",
       "    <tr>\n",
       "      <th>9</th>\n",
       "      <td>93.117608</td>\n",
       "      <td>50.000000</td>\n",
       "      <td>0.0</td>\n",
       "      <td>12.0</td>\n",
       "    </tr>\n",
       "    <tr>\n",
       "      <th>10</th>\n",
       "      <td>27.677398</td>\n",
       "      <td>19.362745</td>\n",
       "      <td>153.0</td>\n",
       "      <td>208.0</td>\n",
       "    </tr>\n",
       "    <tr>\n",
       "      <th>...</th>\n",
       "      <td>...</td>\n",
       "      <td>...</td>\n",
       "      <td>...</td>\n",
       "      <td>...</td>\n",
       "    </tr>\n",
       "    <tr>\n",
       "      <th>593</th>\n",
       "      <td>94.410000</td>\n",
       "      <td>50.000000</td>\n",
       "      <td>0.0</td>\n",
       "      <td>0.0</td>\n",
       "    </tr>\n",
       "    <tr>\n",
       "      <th>604</th>\n",
       "      <td>86.678712</td>\n",
       "      <td>3.676471</td>\n",
       "      <td>-232.0</td>\n",
       "      <td>73.0</td>\n",
       "    </tr>\n",
       "    <tr>\n",
       "      <th>606</th>\n",
       "      <td>94.037451</td>\n",
       "      <td>51.715686</td>\n",
       "      <td>9.0</td>\n",
       "      <td>4.0</td>\n",
       "    </tr>\n",
       "    <tr>\n",
       "      <th>607</th>\n",
       "      <td>7.440867</td>\n",
       "      <td>52.696078</td>\n",
       "      <td>-13.0</td>\n",
       "      <td>17.0</td>\n",
       "    </tr>\n",
       "    <tr>\n",
       "      <th>608</th>\n",
       "      <td>94.431669</td>\n",
       "      <td>47.058824</td>\n",
       "      <td>-15.0</td>\n",
       "      <td>0.0</td>\n",
       "    </tr>\n",
       "  </tbody>\n",
       "</table>\n",
       "<p>164 rows × 4 columns</p>\n",
       "</div>"
      ],
      "text/plain": [
       "             x          y  xLegacy  yLegacy\n",
       "2     8.886334  51.960784    -10.0     31.0\n",
       "5    91.672142  75.490196    127.0     26.0\n",
       "6    17.690539  46.323529     18.0    114.0\n",
       "9    93.117608  50.000000      0.0     12.0\n",
       "10   27.677398  19.362745    153.0    208.0\n",
       "..         ...        ...      ...      ...\n",
       "593  94.410000  50.000000      0.0      0.0\n",
       "604  86.678712   3.676471   -232.0     73.0\n",
       "606  94.037451  51.715686      9.0      4.0\n",
       "607   7.440867  52.696078    -13.0     17.0\n",
       "608  94.431669  47.058824    -15.0      0.0\n",
       "\n",
       "[164 rows x 4 columns]"
      ]
     },
     "execution_count": 24,
     "metadata": {},
     "output_type": "execute_result"
    }
   ],
   "source": [
    "df[['x', 'y', 'xLegacy', 'yLegacy']].dropna()"
   ]
  },
  {
   "cell_type": "code",
   "execution_count": 25,
   "id": "d7cdcbb3-70ec-4b36-8010-e5866c118525",
   "metadata": {},
   "outputs": [],
   "source": [
    "assert all(df['xLegacy'].dropna() == df['xLegacy'].dropna().astype('int')) \n",
    "assert all(df['yLegacy'].dropna() == df['yLegacy'].dropna().astype('int'))"
   ]
  },
  {
   "cell_type": "code",
   "execution_count": 26,
   "id": "0736938b-186d-4209-aebf-53054b899035",
   "metadata": {},
   "outputs": [],
   "source": [
    "df.drop(columns=['xLegacy', 'yLegacy'], inplace=True)"
   ]
  },
  {
   "cell_type": "code",
   "execution_count": 27,
   "id": "4a58335b-b6a2-4553-b6aa-17c0a7599547",
   "metadata": {},
   "outputs": [
    {
     "data": {
      "text/html": [
       "<div>\n",
       "<style scoped>\n",
       "    .dataframe tbody tr th:only-of-type {\n",
       "        vertical-align: middle;\n",
       "    }\n",
       "\n",
       "    .dataframe tbody tr th {\n",
       "        vertical-align: top;\n",
       "    }\n",
       "\n",
       "    .dataframe thead th {\n",
       "        text-align: right;\n",
       "    }\n",
       "</style>\n",
       "<table border=\"1\" class=\"dataframe\">\n",
       "  <thead>\n",
       "    <tr style=\"text-align: right;\">\n",
       "      <th></th>\n",
       "      <th>x</th>\n",
       "      <th>y</th>\n",
       "    </tr>\n",
       "  </thead>\n",
       "  <tbody>\n",
       "    <tr>\n",
       "      <th>count</th>\n",
       "      <td>164.000000</td>\n",
       "      <td>164.000000</td>\n",
       "    </tr>\n",
       "    <tr>\n",
       "      <th>mean</th>\n",
       "      <td>48.080786</td>\n",
       "      <td>50.106110</td>\n",
       "    </tr>\n",
       "    <tr>\n",
       "      <th>std</th>\n",
       "      <td>36.124591</td>\n",
       "      <td>23.107214</td>\n",
       "    </tr>\n",
       "    <tr>\n",
       "      <th>min</th>\n",
       "      <td>3.892904</td>\n",
       "      <td>2.696078</td>\n",
       "    </tr>\n",
       "    <tr>\n",
       "      <th>25%</th>\n",
       "      <td>8.722076</td>\n",
       "      <td>43.321078</td>\n",
       "    </tr>\n",
       "    <tr>\n",
       "      <th>50%</th>\n",
       "      <td>31.685283</td>\n",
       "      <td>49.509804</td>\n",
       "    </tr>\n",
       "    <tr>\n",
       "      <th>75%</th>\n",
       "      <td>87.434297</td>\n",
       "      <td>59.191176</td>\n",
       "    </tr>\n",
       "    <tr>\n",
       "      <th>max</th>\n",
       "      <td>94.957293</td>\n",
       "      <td>97.549020</td>\n",
       "    </tr>\n",
       "  </tbody>\n",
       "</table>\n",
       "</div>"
      ],
      "text/plain": [
       "                x           y\n",
       "count  164.000000  164.000000\n",
       "mean    48.080786   50.106110\n",
       "std     36.124591   23.107214\n",
       "min      3.892904    2.696078\n",
       "25%      8.722076   43.321078\n",
       "50%     31.685283   49.509804\n",
       "75%     87.434297   59.191176\n",
       "max     94.957293   97.549020"
      ]
     },
     "execution_count": 27,
     "metadata": {},
     "output_type": "execute_result"
    }
   ],
   "source": [
    "df[['x', 'y']].dropna().describe()"
   ]
  },
  {
   "cell_type": "code",
   "execution_count": 28,
   "id": "0a66ee45-a7b3-40d4-b4af-6487acc9a147",
   "metadata": {},
   "outputs": [],
   "source": [
    "df['x'] = df['x'].astype('float16')\n",
    "df['y'] = df['y'].astype('float16')"
   ]
  },
  {
   "cell_type": "raw",
   "id": "886bb0b0-3b99-4cef-a718-adb697fd051c",
   "metadata": {},
   "source": []
  },
  {
   "cell_type": "code",
   "execution_count": 29,
   "id": "07f22b68-de61-4c6d-961f-cea1879d97bd",
   "metadata": {},
   "outputs": [
    {
     "data": {
      "text/html": [
       "<div>\n",
       "<style scoped>\n",
       "    .dataframe tbody tr th:only-of-type {\n",
       "        vertical-align: middle;\n",
       "    }\n",
       "\n",
       "    .dataframe tbody tr th {\n",
       "        vertical-align: top;\n",
       "    }\n",
       "\n",
       "    .dataframe thead th {\n",
       "        text-align: right;\n",
       "    }\n",
       "</style>\n",
       "<table border=\"1\" class=\"dataframe\">\n",
       "  <thead>\n",
       "    <tr style=\"text-align: right;\">\n",
       "      <th></th>\n",
       "      <th>scoreHome</th>\n",
       "      <th>scoreAway</th>\n",
       "    </tr>\n",
       "  </thead>\n",
       "  <tbody>\n",
       "    <tr>\n",
       "      <th>0</th>\n",
       "      <td>0</td>\n",
       "      <td>0</td>\n",
       "    </tr>\n",
       "    <tr>\n",
       "      <th>1</th>\n",
       "      <td>0</td>\n",
       "      <td>0</td>\n",
       "    </tr>\n",
       "    <tr>\n",
       "      <th>2</th>\n",
       "      <td>0</td>\n",
       "      <td>0</td>\n",
       "    </tr>\n",
       "    <tr>\n",
       "      <th>3</th>\n",
       "      <td>0</td>\n",
       "      <td>0</td>\n",
       "    </tr>\n",
       "    <tr>\n",
       "      <th>4</th>\n",
       "      <td>0</td>\n",
       "      <td>0</td>\n",
       "    </tr>\n",
       "    <tr>\n",
       "      <th>...</th>\n",
       "      <td>...</td>\n",
       "      <td>...</td>\n",
       "    </tr>\n",
       "    <tr>\n",
       "      <th>606</th>\n",
       "      <td>95</td>\n",
       "      <td>100</td>\n",
       "    </tr>\n",
       "    <tr>\n",
       "      <th>607</th>\n",
       "      <td>95</td>\n",
       "      <td>102</td>\n",
       "    </tr>\n",
       "    <tr>\n",
       "      <th>608</th>\n",
       "      <td>97</td>\n",
       "      <td>102</td>\n",
       "    </tr>\n",
       "    <tr>\n",
       "      <th>609</th>\n",
       "      <td>97</td>\n",
       "      <td>102</td>\n",
       "    </tr>\n",
       "    <tr>\n",
       "      <th>610</th>\n",
       "      <td>97</td>\n",
       "      <td>102</td>\n",
       "    </tr>\n",
       "  </tbody>\n",
       "</table>\n",
       "<p>611 rows × 2 columns</p>\n",
       "</div>"
      ],
      "text/plain": [
       "    scoreHome scoreAway\n",
       "0           0         0\n",
       "1           0         0\n",
       "2           0         0\n",
       "3           0         0\n",
       "4           0         0\n",
       "..        ...       ...\n",
       "606        95       100\n",
       "607        95       102\n",
       "608        97       102\n",
       "609        97       102\n",
       "610        97       102\n",
       "\n",
       "[611 rows x 2 columns]"
      ]
     },
     "execution_count": 29,
     "metadata": {},
     "output_type": "execute_result"
    }
   ],
   "source": [
    "df[['scoreHome', 'scoreAway']]"
   ]
  },
  {
   "cell_type": "code",
   "execution_count": 30,
   "id": "229a21f7-6d0d-4090-865a-a5e917b86577",
   "metadata": {},
   "outputs": [],
   "source": [
    "df['scoreHome'] = df['scoreHome'].astype('uint8')\n",
    "df['scoreAway'] = df['scoreAway'].astype('uint8')"
   ]
  },
  {
   "cell_type": "code",
   "execution_count": null,
   "id": "77f44b0b-09f3-40eb-b5bf-ab7f7f7687ef",
   "metadata": {},
   "outputs": [],
   "source": []
  },
  {
   "cell_type": "code",
   "execution_count": 31,
   "id": "5025b029-8476-4e6f-9f1b-597b415b7562",
   "metadata": {},
   "outputs": [
    {
     "data": {
      "text/plain": [
       "array([nan, 'Restricted Area', 'Mid-Range', 'In The Paint (Non-RA)',\n",
       "       'Above the Break 3', 'Left Corner 3', 'Right Corner 3'],\n",
       "      dtype=object)"
      ]
     },
     "execution_count": 31,
     "metadata": {},
     "output_type": "execute_result"
    }
   ],
   "source": [
    "df['area'].unique()"
   ]
  },
  {
   "cell_type": "code",
   "execution_count": 32,
   "id": "5c0d4e0e-66e4-4679-9976-bdc9312230f5",
   "metadata": {},
   "outputs": [
    {
     "data": {
      "text/plain": [
       "array([nan, '0-8 Center', '8-16 Right', '8-16 Center', '24+ Right Center',\n",
       "       '24+ Left', '24+ Right', '16-24 Right Center', '8-16 Left',\n",
       "       '24+ Left Center', '16-24 Center', '24+ Center', '16-24 Right',\n",
       "       '16-24 Left Center'], dtype=object)"
      ]
     },
     "execution_count": 32,
     "metadata": {},
     "output_type": "execute_result"
    }
   ],
   "source": [
    "df['areaDetail'].unique()"
   ]
  },
  {
   "cell_type": "code",
   "execution_count": 33,
   "id": "4a1455b1-5864-4e88-9be6-e2d28870fecb",
   "metadata": {},
   "outputs": [],
   "source": [
    "df.drop(columns=['area', 'areaDetail'], inplace=True)"
   ]
  },
  {
   "cell_type": "raw",
   "id": "bfb9327a-7b0a-491b-8169-de692a2b0053",
   "metadata": {},
   "source": []
  },
  {
   "cell_type": "code",
   "execution_count": 34,
   "id": "e45687cf-2ebe-4c1e-82dc-1ec23d6bfec8",
   "metadata": {},
   "outputs": [
    {
     "data": {
      "text/plain": [
       "array([nan, 'Missed', 'Made'], dtype=object)"
      ]
     },
     "execution_count": 34,
     "metadata": {},
     "output_type": "execute_result"
    }
   ],
   "source": [
    "df['shotResult'].unique()"
   ]
  },
  {
   "cell_type": "code",
   "execution_count": 35,
   "id": "2e26e8c2-dcbe-4155-bfb0-de5430f8ef31",
   "metadata": {},
   "outputs": [],
   "source": [
    "df['shotResult'] = df['shotResult'].replace({'Made': True, 'Missed': False}).astype('boolean')"
   ]
  },
  {
   "cell_type": "code",
   "execution_count": 36,
   "id": "6959a83f-2fa6-450d-952e-082cf88cde8b",
   "metadata": {},
   "outputs": [
    {
     "data": {
      "text/plain": [
       "0       NaN\n",
       "1       NaN\n",
       "2      3.25\n",
       "3       NaN\n",
       "4       NaN\n",
       "       ... \n",
       "606    0.93\n",
       "607    2.20\n",
       "608    1.47\n",
       "609     NaN\n",
       "610     NaN\n",
       "Name: shotDistance, Length: 611, dtype: float64"
      ]
     },
     "execution_count": 36,
     "metadata": {},
     "output_type": "execute_result"
    }
   ],
   "source": [
    "df['shotDistance']"
   ]
  },
  {
   "cell_type": "code",
   "execution_count": 37,
   "id": "79fd70a3-7845-4d78-8de1-f3de95ca4f76",
   "metadata": {},
   "outputs": [],
   "source": [
    "df['shotDistance'] = df['shotDistance'].astype('float16')"
   ]
  },
  {
   "cell_type": "raw",
   "id": "9b1935d4-4f2e-488b-bbb0-2b7368b49ccb",
   "metadata": {},
   "source": []
  },
  {
   "cell_type": "code",
   "execution_count": 38,
   "id": "28943216-8006-4763-bf61-6027ac43599a",
   "metadata": {},
   "outputs": [
    {
     "data": {
      "text/html": [
       "<div>\n",
       "<style scoped>\n",
       "    .dataframe tbody tr th:only-of-type {\n",
       "        vertical-align: middle;\n",
       "    }\n",
       "\n",
       "    .dataframe tbody tr th {\n",
       "        vertical-align: top;\n",
       "    }\n",
       "\n",
       "    .dataframe thead th {\n",
       "        text-align: right;\n",
       "    }\n",
       "</style>\n",
       "<table border=\"1\" class=\"dataframe\">\n",
       "  <thead>\n",
       "    <tr style=\"text-align: right;\">\n",
       "      <th></th>\n",
       "      <th>actionType</th>\n",
       "      <th>subType</th>\n",
       "      <th>possession</th>\n",
       "      <th>teamId</th>\n",
       "    </tr>\n",
       "  </thead>\n",
       "  <tbody>\n",
       "    <tr>\n",
       "      <th>0</th>\n",
       "      <td>period</td>\n",
       "      <td>start</td>\n",
       "      <td>0</td>\n",
       "      <td>NaN</td>\n",
       "    </tr>\n",
       "    <tr>\n",
       "      <th>1</th>\n",
       "      <td>jumpball</td>\n",
       "      <td>recovered</td>\n",
       "      <td>1610612766</td>\n",
       "      <td>1.610613e+09</td>\n",
       "    </tr>\n",
       "    <tr>\n",
       "      <th>2</th>\n",
       "      <td>2pt</td>\n",
       "      <td>DUNK</td>\n",
       "      <td>1610612766</td>\n",
       "      <td>1.610613e+09</td>\n",
       "    </tr>\n",
       "    <tr>\n",
       "      <th>3</th>\n",
       "      <td>block</td>\n",
       "      <td></td>\n",
       "      <td>1610612766</td>\n",
       "      <td>1.610613e+09</td>\n",
       "    </tr>\n",
       "    <tr>\n",
       "      <th>4</th>\n",
       "      <td>rebound</td>\n",
       "      <td>defensive</td>\n",
       "      <td>1610612757</td>\n",
       "      <td>1.610613e+09</td>\n",
       "    </tr>\n",
       "    <tr>\n",
       "      <th>...</th>\n",
       "      <td>...</td>\n",
       "      <td>...</td>\n",
       "      <td>...</td>\n",
       "      <td>...</td>\n",
       "    </tr>\n",
       "    <tr>\n",
       "      <th>606</th>\n",
       "      <td>2pt</td>\n",
       "      <td>DUNK</td>\n",
       "      <td>1610612766</td>\n",
       "      <td>1.610613e+09</td>\n",
       "    </tr>\n",
       "    <tr>\n",
       "      <th>607</th>\n",
       "      <td>2pt</td>\n",
       "      <td>DUNK</td>\n",
       "      <td>1610612757</td>\n",
       "      <td>1.610613e+09</td>\n",
       "    </tr>\n",
       "    <tr>\n",
       "      <th>608</th>\n",
       "      <td>2pt</td>\n",
       "      <td>Layup</td>\n",
       "      <td>1610612766</td>\n",
       "      <td>1.610613e+09</td>\n",
       "    </tr>\n",
       "    <tr>\n",
       "      <th>609</th>\n",
       "      <td>period</td>\n",
       "      <td>end</td>\n",
       "      <td>1610612757</td>\n",
       "      <td>NaN</td>\n",
       "    </tr>\n",
       "    <tr>\n",
       "      <th>610</th>\n",
       "      <td>game</td>\n",
       "      <td>end</td>\n",
       "      <td>0</td>\n",
       "      <td>NaN</td>\n",
       "    </tr>\n",
       "  </tbody>\n",
       "</table>\n",
       "<p>611 rows × 4 columns</p>\n",
       "</div>"
      ],
      "text/plain": [
       "    actionType    subType  possession        teamId\n",
       "0       period      start           0           NaN\n",
       "1     jumpball  recovered  1610612766  1.610613e+09\n",
       "2          2pt       DUNK  1610612766  1.610613e+09\n",
       "3        block             1610612766  1.610613e+09\n",
       "4      rebound  defensive  1610612757  1.610613e+09\n",
       "..         ...        ...         ...           ...\n",
       "606        2pt       DUNK  1610612766  1.610613e+09\n",
       "607        2pt       DUNK  1610612757  1.610613e+09\n",
       "608        2pt      Layup  1610612766  1.610613e+09\n",
       "609     period        end  1610612757           NaN\n",
       "610       game        end           0           NaN\n",
       "\n",
       "[611 rows x 4 columns]"
      ]
     },
     "execution_count": 38,
     "metadata": {},
     "output_type": "execute_result"
    }
   ],
   "source": [
    "df[['actionType', 'subType', 'possession', 'teamId']]"
   ]
  },
  {
   "cell_type": "code",
   "execution_count": 39,
   "id": "da1093cf-007b-409e-bff8-e39462e8d781",
   "metadata": {},
   "outputs": [
    {
     "data": {
      "text/plain": [
       "<StringArray>\n",
       "['period', 'game']\n",
       "Length: 2, dtype: string"
      ]
     },
     "execution_count": 39,
     "metadata": {},
     "output_type": "execute_result"
    }
   ],
   "source": [
    "df[df['possession'] == 0]['actionType'].unique()"
   ]
  },
  {
   "cell_type": "code",
   "execution_count": 40,
   "id": "d711a149-90e7-4ef7-aeb4-c3dc1eafd018",
   "metadata": {},
   "outputs": [
    {
     "data": {
      "text/plain": [
       "array([           nan, 1.61061277e+09, 1.61061276e+09])"
      ]
     },
     "execution_count": 40,
     "metadata": {},
     "output_type": "execute_result"
    }
   ],
   "source": [
    "df['teamId'].unique()"
   ]
  },
  {
   "cell_type": "code",
   "execution_count": 41,
   "id": "57799505-ec9b-4c21-b22f-2d9d7aa75124",
   "metadata": {},
   "outputs": [],
   "source": [
    "df['possession'] = df['possession'].replace(0, pd.NA).astype('UInt32')\n",
    "df['teamId'] = df['teamId'].astype('UInt32')"
   ]
  },
  {
   "cell_type": "raw",
   "id": "e45efbe8-625b-4e8a-a59e-2f8524ef73b0",
   "metadata": {},
   "source": []
  },
  {
   "cell_type": "code",
   "execution_count": 42,
   "id": "cde9f45d-97da-4126-a59c-1f91ba5bd471",
   "metadata": {},
   "outputs": [
    {
     "data": {
      "text/plain": [
       "array([      0,  203995, 1631109, 1642270, 1629014, 1630166, 1628998,\n",
       "       1641733, 1630182, 1641739,  203924, 1629006, 1630703, 1631133,\n",
       "       1631101, 1642354, 1631209, 1630625, 1631217, 1629610])"
      ]
     },
     "execution_count": 42,
     "metadata": {},
     "output_type": "execute_result"
    }
   ],
   "source": [
    "df['personId'].unique()"
   ]
  },
  {
   "cell_type": "code",
   "execution_count": 43,
   "id": "6028e527-23f1-4e3e-9897-b61e38105c7d",
   "metadata": {},
   "outputs": [
    {
     "data": {
      "text/plain": [
       "<StringArray>\n",
       "['period', 'rebound', 'timeout', 'turnover', 'violation', 'game']\n",
       "Length: 6, dtype: string"
      ]
     },
     "execution_count": 43,
     "metadata": {},
     "output_type": "execute_result"
    }
   ],
   "source": [
    "df[df['personId'] == 0]['actionType'].unique()"
   ]
  },
  {
   "cell_type": "code",
   "execution_count": 44,
   "id": "35b28e25-af28-4ddc-a6a0-11e64541af0f",
   "metadata": {},
   "outputs": [],
   "source": [
    "df['personId'] = df['personId'].replace(0, pd.NA).astype('UInt32')"
   ]
  },
  {
   "cell_type": "raw",
   "id": "91cf9a3f-7250-4649-b756-3c1f98658fcd",
   "metadata": {},
   "source": []
  },
  {
   "cell_type": "code",
   "execution_count": 45,
   "id": "828fcad7-d852-4cee-8144-1842ea65f5b5",
   "metadata": {},
   "outputs": [
    {
     "data": {
      "text/plain": [
       "array([     nan, 1626301., 1628487.,  204059.])"
      ]
     },
     "execution_count": 45,
     "metadata": {},
     "output_type": "execute_result"
    }
   ],
   "source": [
    "df['officialId'].unique()"
   ]
  },
  {
   "cell_type": "code",
   "execution_count": 46,
   "id": "f16aa41e-dcf7-467e-b427-c231d96b8df0",
   "metadata": {},
   "outputs": [],
   "source": [
    "df['officialId'] = df['officialId'].astype('UInt32')"
   ]
  },
  {
   "cell_type": "raw",
   "id": "b76f2950-bacd-40c2-922c-c0e306b4199d",
   "metadata": {},
   "source": []
  },
  {
   "cell_type": "code",
   "execution_count": 47,
   "id": "166cfc92-9b89-456a-8709-d7303ed8d84a",
   "metadata": {},
   "outputs": [
    {
     "data": {
      "text/html": [
       "<div>\n",
       "<style scoped>\n",
       "    .dataframe tbody tr th:only-of-type {\n",
       "        vertical-align: middle;\n",
       "    }\n",
       "\n",
       "    .dataframe tbody tr th {\n",
       "        vertical-align: top;\n",
       "    }\n",
       "\n",
       "    .dataframe thead th {\n",
       "        text-align: right;\n",
       "    }\n",
       "</style>\n",
       "<table border=\"1\" class=\"dataframe\">\n",
       "  <thead>\n",
       "    <tr style=\"text-align: right;\">\n",
       "      <th></th>\n",
       "      <th>jumpBallRecoverdPersonId</th>\n",
       "      <th>jumpBallWonPersonId</th>\n",
       "      <th>jumpBallLostPersonId</th>\n",
       "      <th>blockPersonId</th>\n",
       "      <th>assistPersonId</th>\n",
       "      <th>foulDrawnPersonId</th>\n",
       "      <th>stealPersonId</th>\n",
       "    </tr>\n",
       "  </thead>\n",
       "  <tbody>\n",
       "    <tr>\n",
       "      <th>0</th>\n",
       "      <td>NaN</td>\n",
       "      <td>NaN</td>\n",
       "      <td>NaN</td>\n",
       "      <td>NaN</td>\n",
       "      <td>NaN</td>\n",
       "      <td>NaN</td>\n",
       "      <td>NaN</td>\n",
       "    </tr>\n",
       "    <tr>\n",
       "      <th>1</th>\n",
       "      <td>203995.0</td>\n",
       "      <td>1631109.0</td>\n",
       "      <td>1642270.0</td>\n",
       "      <td>NaN</td>\n",
       "      <td>NaN</td>\n",
       "      <td>NaN</td>\n",
       "      <td>NaN</td>\n",
       "    </tr>\n",
       "    <tr>\n",
       "      <th>2</th>\n",
       "      <td>NaN</td>\n",
       "      <td>NaN</td>\n",
       "      <td>NaN</td>\n",
       "      <td>1642270.0</td>\n",
       "      <td>NaN</td>\n",
       "      <td>NaN</td>\n",
       "      <td>NaN</td>\n",
       "    </tr>\n",
       "    <tr>\n",
       "      <th>3</th>\n",
       "      <td>NaN</td>\n",
       "      <td>NaN</td>\n",
       "      <td>NaN</td>\n",
       "      <td>NaN</td>\n",
       "      <td>NaN</td>\n",
       "      <td>NaN</td>\n",
       "      <td>NaN</td>\n",
       "    </tr>\n",
       "    <tr>\n",
       "      <th>4</th>\n",
       "      <td>NaN</td>\n",
       "      <td>NaN</td>\n",
       "      <td>NaN</td>\n",
       "      <td>NaN</td>\n",
       "      <td>NaN</td>\n",
       "      <td>NaN</td>\n",
       "      <td>NaN</td>\n",
       "    </tr>\n",
       "    <tr>\n",
       "      <th>...</th>\n",
       "      <td>...</td>\n",
       "      <td>...</td>\n",
       "      <td>...</td>\n",
       "      <td>...</td>\n",
       "      <td>...</td>\n",
       "      <td>...</td>\n",
       "      <td>...</td>\n",
       "    </tr>\n",
       "    <tr>\n",
       "      <th>606</th>\n",
       "      <td>NaN</td>\n",
       "      <td>NaN</td>\n",
       "      <td>NaN</td>\n",
       "      <td>NaN</td>\n",
       "      <td>1630182.0</td>\n",
       "      <td>NaN</td>\n",
       "      <td>NaN</td>\n",
       "    </tr>\n",
       "    <tr>\n",
       "      <th>607</th>\n",
       "      <td>NaN</td>\n",
       "      <td>NaN</td>\n",
       "      <td>NaN</td>\n",
       "      <td>NaN</td>\n",
       "      <td>1629014.0</td>\n",
       "      <td>NaN</td>\n",
       "      <td>NaN</td>\n",
       "    </tr>\n",
       "    <tr>\n",
       "      <th>608</th>\n",
       "      <td>NaN</td>\n",
       "      <td>NaN</td>\n",
       "      <td>NaN</td>\n",
       "      <td>NaN</td>\n",
       "      <td>1641733.0</td>\n",
       "      <td>NaN</td>\n",
       "      <td>NaN</td>\n",
       "    </tr>\n",
       "    <tr>\n",
       "      <th>609</th>\n",
       "      <td>NaN</td>\n",
       "      <td>NaN</td>\n",
       "      <td>NaN</td>\n",
       "      <td>NaN</td>\n",
       "      <td>NaN</td>\n",
       "      <td>NaN</td>\n",
       "      <td>NaN</td>\n",
       "    </tr>\n",
       "    <tr>\n",
       "      <th>610</th>\n",
       "      <td>NaN</td>\n",
       "      <td>NaN</td>\n",
       "      <td>NaN</td>\n",
       "      <td>NaN</td>\n",
       "      <td>NaN</td>\n",
       "      <td>NaN</td>\n",
       "      <td>NaN</td>\n",
       "    </tr>\n",
       "  </tbody>\n",
       "</table>\n",
       "<p>611 rows × 7 columns</p>\n",
       "</div>"
      ],
      "text/plain": [
       "     jumpBallRecoverdPersonId  jumpBallWonPersonId  jumpBallLostPersonId  \\\n",
       "0                         NaN                  NaN                   NaN   \n",
       "1                    203995.0            1631109.0             1642270.0   \n",
       "2                         NaN                  NaN                   NaN   \n",
       "3                         NaN                  NaN                   NaN   \n",
       "4                         NaN                  NaN                   NaN   \n",
       "..                        ...                  ...                   ...   \n",
       "606                       NaN                  NaN                   NaN   \n",
       "607                       NaN                  NaN                   NaN   \n",
       "608                       NaN                  NaN                   NaN   \n",
       "609                       NaN                  NaN                   NaN   \n",
       "610                       NaN                  NaN                   NaN   \n",
       "\n",
       "     blockPersonId  assistPersonId  foulDrawnPersonId  stealPersonId  \n",
       "0              NaN             NaN                NaN            NaN  \n",
       "1              NaN             NaN                NaN            NaN  \n",
       "2        1642270.0             NaN                NaN            NaN  \n",
       "3              NaN             NaN                NaN            NaN  \n",
       "4              NaN             NaN                NaN            NaN  \n",
       "..             ...             ...                ...            ...  \n",
       "606            NaN       1630182.0                NaN            NaN  \n",
       "607            NaN       1629014.0                NaN            NaN  \n",
       "608            NaN       1641733.0                NaN            NaN  \n",
       "609            NaN             NaN                NaN            NaN  \n",
       "610            NaN             NaN                NaN            NaN  \n",
       "\n",
       "[611 rows x 7 columns]"
      ]
     },
     "execution_count": 47,
     "metadata": {},
     "output_type": "execute_result"
    }
   ],
   "source": [
    "df.filter(regex='PersonId')"
   ]
  },
  {
   "cell_type": "code",
   "execution_count": 52,
   "id": "463da06d-5536-44a4-af24-3f86865455f2",
   "metadata": {},
   "outputs": [],
   "source": [
    "df.rename(columns={'jumpBallRecoverdPersonId': 'jumpBallRecoveredPersonId'}, inplace=True)"
   ]
  },
  {
   "cell_type": "code",
   "execution_count": 53,
   "id": "aeb1631b-d0fb-4e13-b3d8-38455baf3371",
   "metadata": {},
   "outputs": [
    {
     "data": {
      "text/plain": [
       "jumpBallRecoveredPersonId    False\n",
       "jumpBallWonPersonId          False\n",
       "jumpBallLostPersonId         False\n",
       "blockPersonId                False\n",
       "assistPersonId               False\n",
       "foulDrawnPersonId            False\n",
       "stealPersonId                False\n",
       "dtype: boolean"
      ]
     },
     "execution_count": 53,
     "metadata": {},
     "output_type": "execute_result"
    }
   ],
   "source": [
    "(df.filter(regex='PersonId') == 0).any()"
   ]
  },
  {
   "cell_type": "code",
   "execution_count": 54,
   "id": "1252acd3-56e3-4139-ad3d-464fa983e81f",
   "metadata": {},
   "outputs": [],
   "source": [
    "df['jumpBallRecoveredPersonId'] = df['jumpBallRecoveredPersonId'].astype('UInt32')\n",
    "df['jumpBallWonPersonId'] = df['jumpBallWonPersonId'].astype('UInt32')\n",
    "df['jumpBallLostPersonId'] = df['jumpBallLostPersonId'].astype('UInt32')\n",
    "df['blockPersonId'] = df['blockPersonId'].astype('UInt32')\n",
    "df['assistPersonId'] = df['assistPersonId'].astype('UInt32')\n",
    "df['foulDrawnPersonId'] = df['foulDrawnPersonId'].astype('UInt32')\n",
    "df['stealPersonId'] = df['stealPersonId'].astype('UInt32')"
   ]
  },
  {
   "cell_type": "code",
   "execution_count": 55,
   "id": "c47f20e0-33a3-40c1-b867-ba7b2ce98291",
   "metadata": {},
   "outputs": [
    {
     "data": {
      "text/plain": [
       "clock                            timedelta64[ns]\n",
       "timeActual                   datetime64[ns, UTC]\n",
       "period                                     uint8\n",
       "actionType                        string[python]\n",
       "subType                           string[python]\n",
       "personId                                  UInt32\n",
       "x                                        float16\n",
       "y                                        float16\n",
       "possession                                UInt32\n",
       "scoreHome                                  uint8\n",
       "scoreAway                                  uint8\n",
       "teamId                                    UInt32\n",
       "descriptor                        string[python]\n",
       "jumpBallRecoveredPersonId                 UInt32\n",
       "jumpBallWonPersonId                       UInt32\n",
       "jumpBallLostPersonId                      UInt32\n",
       "shotDistance                             float16\n",
       "shotResult                               boolean\n",
       "blockPersonId                             UInt32\n",
       "assistPersonId                            UInt32\n",
       "officialId                                UInt32\n",
       "foulDrawnPersonId                         UInt32\n",
       "stealPersonId                             UInt32\n",
       "dtype: object"
      ]
     },
     "execution_count": 55,
     "metadata": {},
     "output_type": "execute_result"
    }
   ],
   "source": [
    "df.dtypes"
   ]
  },
  {
   "cell_type": "code",
   "execution_count": 56,
   "id": "3573a6a7-e2c5-44cc-858f-c7c067da7fe1",
   "metadata": {},
   "outputs": [
    {
     "name": "stdout",
     "output_type": "stream",
     "text": [
      "Original teams df memory: 0.91 MB\n",
      "Optimized teams df memory: 0.15 MB\n",
      "Memory saved: 0.77 MB (84.0%)\n"
     ]
    }
   ],
   "source": [
    "original_memory = pd.DataFrame(pbp.get_dict()['game']['actions']).memory_usage(deep=True).sum()\n",
    "optimized_memory = df.memory_usage(deep=True).sum()\n",
    "\n",
    "print(f\"Original teams df memory: {original_memory / 1024**2:.2f} MB\")\n",
    "print(f\"Optimized teams df memory: {optimized_memory / 1024**2:.2f} MB\")\n",
    "print(f\"Memory saved: {(original_memory - optimized_memory) / 1024**2:.2f} MB ({(1 - optimized_memory/original_memory)*100:.1f}%)\")"
   ]
  },
  {
   "cell_type": "code",
   "execution_count": null,
   "id": "d23b9bf5-d516-469b-94c2-df7e77ef2f11",
   "metadata": {},
   "outputs": [],
   "source": []
  }
 ],
 "metadata": {
  "kernelspec": {
   "display_name": "Python 3 (ipykernel)",
   "language": "python",
   "name": "python3"
  },
  "language_info": {
   "codemirror_mode": {
    "name": "ipython",
    "version": 3
   },
   "file_extension": ".py",
   "mimetype": "text/x-python",
   "name": "python",
   "nbconvert_exporter": "python",
   "pygments_lexer": "ipython3",
   "version": "3.13.5"
  }
 },
 "nbformat": 4,
 "nbformat_minor": 5
}
