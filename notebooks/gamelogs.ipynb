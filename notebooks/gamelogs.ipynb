{
 "cells": [
  {
   "cell_type": "markdown",
   "id": "495f4963-0f71-4d52-9f53-42b41388e8b1",
   "metadata": {},
   "source": [
    "# GameLogs data exploration\n",
    "In this notebook we'll explore the data obtained from the `LeagueGameLog` endpoint (docs at https://github.com/swar/nba_api/blob/master/docs/nba_api/stats/endpoints/leaguegamelog.md)."
   ]
  },
  {
   "cell_type": "code",
   "execution_count": 1,
   "id": "26e544cb-9d3e-41f6-b11a-299db0a9d605",
   "metadata": {},
   "outputs": [],
   "source": [
    "import pandas as pd"
   ]
  },
  {
   "cell_type": "code",
   "execution_count": 2,
   "id": "67c80de5-9fcd-4f5f-91f0-5ba5a4579861",
   "metadata": {},
   "outputs": [
    {
     "data": {
      "text/plain": [
       "\u001b[31mInit signature:\u001b[39m\n",
       "LeagueGameLog(\n",
       "    counter=\u001b[32m0\u001b[39m,\n",
       "    direction=\u001b[33m'ASC'\u001b[39m,\n",
       "    league_id=\u001b[33m'00'\u001b[39m,\n",
       "    player_or_team_abbreviation=\u001b[33m'T'\u001b[39m,\n",
       "    season=\u001b[33m'2024-25'\u001b[39m,\n",
       "    season_type_all_star=\u001b[33m'Regular Season'\u001b[39m,\n",
       "    sorter=\u001b[33m'DATE'\u001b[39m,\n",
       "    date_from_nullable=\u001b[33m''\u001b[39m,\n",
       "    date_to_nullable=\u001b[33m''\u001b[39m,\n",
       "    proxy=\u001b[38;5;28;01mNone\u001b[39;00m,\n",
       "    headers=\u001b[38;5;28;01mNone\u001b[39;00m,\n",
       "    timeout=\u001b[32m30\u001b[39m,\n",
       "    get_request=\u001b[38;5;28;01mTrue\u001b[39;00m,\n",
       ")\n",
       "\u001b[31mDocstring:\u001b[39m      <no docstring>\n",
       "\u001b[31mFile:\u001b[39m           ~/anaconda3/envs/MBAI/lib/python3.13/site-packages/nba_api/stats/endpoints/leaguegamelog.py\n",
       "\u001b[31mType:\u001b[39m           type\n",
       "\u001b[31mSubclasses:\u001b[39m     "
      ]
     },
     "metadata": {},
     "output_type": "display_data"
    }
   ],
   "source": [
    "from nba_api.stats.endpoints import LeagueGameLog\n",
    "\n",
    "LeagueGameLog?"
   ]
  },
  {
   "cell_type": "markdown",
   "id": "31b0258a-2bfe-4867-86dc-d24d98f1f734",
   "metadata": {},
   "source": [
    "We can get both gamelogs teams and players for an entire season or a specific timespan. As a case study for exploring the endpoint, we'll analyse the past regular season (2024-25)."
   ]
  },
  {
   "cell_type": "markdown",
   "id": "89dbb7d4-3c5f-4e03-86ec-29c7bf98fc99",
   "metadata": {},
   "source": [
    "We first make the api call and then we extract the dataframe. Doing so, we can modify the dfs all the times we want without making any more api requests.   "
   ]
  },
  {
   "cell_type": "code",
   "execution_count": 3,
   "id": "450b7738-5fb5-4fc3-bc95-8bee2693a27f",
   "metadata": {},
   "outputs": [],
   "source": [
    "gamelogs_T = LeagueGameLog(season='2024', player_or_team_abbreviation='T')\n",
    "gamelogs_P = LeagueGameLog(season='2024', player_or_team_abbreviation='P')"
   ]
  },
  {
   "cell_type": "code",
   "execution_count": 4,
   "id": "253e4444-c0b4-4cfa-955b-d5a34d724316",
   "metadata": {},
   "outputs": [],
   "source": [
    "df_T = gamelogs_T.get_data_frames()[0]\n",
    "df_P = gamelogs_P.get_data_frames()[0]"
   ]
  },
  {
   "cell_type": "code",
   "execution_count": 5,
   "id": "f673ad6f-e309-4c7e-8f47-6b7cd0f43bb9",
   "metadata": {},
   "outputs": [
    {
     "name": "stdout",
     "output_type": "stream",
     "text": [
      "Teams columns:\n",
      " ['SEASON_ID', 'TEAM_ID', 'TEAM_ABBREVIATION', 'TEAM_NAME', 'GAME_ID', 'GAME_DATE', 'MATCHUP', 'WL', 'MIN', 'FGM', 'FGA', 'FG_PCT', 'FG3M', 'FG3A', 'FG3_PCT', 'FTM', 'FTA', 'FT_PCT', 'OREB', 'DREB', 'REB', 'AST', 'STL', 'BLK', 'TOV', 'PF', 'PTS', 'PLUS_MINUS', 'VIDEO_AVAILABLE']\n",
      "\n",
      "Players columns:\n",
      " ['SEASON_ID', 'PLAYER_ID', 'PLAYER_NAME', 'TEAM_ID', 'TEAM_ABBREVIATION', 'TEAM_NAME', 'GAME_ID', 'GAME_DATE', 'MATCHUP', 'WL', 'MIN', 'FGM', 'FGA', 'FG_PCT', 'FG3M', 'FG3A', 'FG3_PCT', 'FTM', 'FTA', 'FT_PCT', 'OREB', 'DREB', 'REB', 'AST', 'STL', 'BLK', 'TOV', 'PF', 'PTS', 'PLUS_MINUS', 'FANTASY_PTS', 'VIDEO_AVAILABLE']\n"
     ]
    }
   ],
   "source": [
    "print(\"Teams columns:\\n\", df_T.columns.tolist())\n",
    "print()\n",
    "print(\"Players columns:\\n\", df_P.columns.tolist())"
   ]
  },
  {
   "cell_type": "markdown",
   "id": "8a28235b-e6b5-4cd7-b092-343f2169f906",
   "metadata": {},
   "source": [
    "We need to make sure that the two dfs we scraped are consistent with each other, in particular for the `SEASON_ID` and `GAME_ID`s. "
   ]
  },
  {
   "cell_type": "code",
   "execution_count": 6,
   "id": "05f370d1-2fd0-451c-aa95-5abcb876371c",
   "metadata": {},
   "outputs": [],
   "source": [
    "assert df_T['SEASON_ID'].unique() == df_P['SEASON_ID'].unique()\n",
    "assert set(df_T['GAME_ID']) ^ set(df_P['GAME_ID']) == set()"
   ]
  },
  {
   "cell_type": "code",
   "execution_count": 9,
   "id": "78d5a4cd-a3ec-4bb9-b446-d3dbb7fc1b39",
   "metadata": {},
   "outputs": [],
   "source": [
    "season_id = df_T['SEASON_ID'].unique()[0]\n",
    "game_ids = df_T['GAME_ID'].unique()"
   ]
  },
  {
   "cell_type": "markdown",
   "id": "7957c0b7-e3b5-40d4-a0c3-9a7b5cd64480",
   "metadata": {},
   "source": [
    "We'll check that for each `GAME_ID` we have exactly 2 teams and at least 5 players for each team. "
   ]
  },
  {
   "cell_type": "code",
   "execution_count": 10,
   "id": "97b713e6-4d23-48fa-8389-481236874ab9",
   "metadata": {},
   "outputs": [],
   "source": [
    "for game_id in game_ids:\n",
    "    teams_df = df_T[df_T['GAME_ID'] == game_id]\n",
    "    assert len(teams_df) == 2\n",
    "    \n",
    "    players_df = df_P[df_P['GAME_ID'] == game_id]\n",
    "    for team_id in teams_df['TEAM_ID']:\n",
    "        assert len(players_df[players_df['TEAM_ID'] == team_id]) >= 5"
   ]
  },
  {
   "cell_type": "markdown",
   "id": "a4bb5af2-caba-40ab-8c8a-c86be232ea15",
   "metadata": {},
   "source": [
    "Now we'll need to select which columns are important for our analysis. First, let's look at which columns are different in the two dfs. "
   ]
  },
  {
   "cell_type": "code",
   "execution_count": 11,
   "id": "15b6c681-c19b-41e4-88e9-7c2b4a6d7b2d",
   "metadata": {},
   "outputs": [
    {
     "name": "stdout",
     "output_type": "stream",
     "text": [
      "Different columns:  {'PLAYER_ID', 'PLAYER_NAME', 'FANTASY_PTS'}\n"
     ]
    }
   ],
   "source": [
    "print(\"Different columns: \", set(df_T.columns) ^ set(df_P.columns))"
   ]
  },
  {
   "cell_type": "markdown",
   "id": "b0ba9789-be6c-4307-af6b-7d1afae9a973",
   "metadata": {},
   "source": [
    "Since we already know the `SEASON_ID`, we can drop it in both dfs. \n",
    "We can drop also the `GAME_DATE`, which is an info that we're going to acquire from the `GAME_ID`.  \n",
    "Since `TEAM_ID` and `PLAYER_ID` are unique identifiers, we don't need any more names or abbreviations. \n",
    "We can also detach the `PLAYER_ID` from the `TEAM_ID`. \n",
    "We know that we have two teams for each game, therefore the `MATCHUP` column isn't useful. \n",
    "We can also drop the `VIDEO_AVAILABLE` and `FANTASY_PTS` columns."
   ]
  },
  {
   "cell_type": "code",
   "execution_count": 12,
   "id": "1f0909ad-8884-4226-8249-f3a8fd6454c4",
   "metadata": {},
   "outputs": [],
   "source": [
    "cols2drop = ['SEASON_ID', 'GAME_DATE', 'TEAM_ABBREVIATION', 'TEAM_NAME', 'MATCHUP', 'VIDEO_AVAILABLE']\n",
    "df_T.drop(columns=cols2drop, inplace=True)\n",
    "df_P.drop(columns=cols2drop + ['TEAM_ID', 'PLAYER_NAME', 'FANTASY_PTS'], inplace=True)"
   ]
  },
  {
   "cell_type": "markdown",
   "id": "b777c97b-4807-45eb-a9d3-bbc32dd7fdb2",
   "metadata": {},
   "source": [
    "We are ready to look at the data! Let's start with the teams df. "
   ]
  },
  {
   "cell_type": "code",
   "execution_count": 13,
   "id": "db5837d3-238b-4d5c-8d69-e4730db951e2",
   "metadata": {},
   "outputs": [
    {
     "name": "stdout",
     "output_type": "stream",
     "text": [
      "<class 'pandas.core.frame.DataFrame'>\n",
      "RangeIndex: 2460 entries, 0 to 2459\n",
      "Data columns (total 23 columns):\n",
      " #   Column      Non-Null Count  Dtype  \n",
      "---  ------      --------------  -----  \n",
      " 0   TEAM_ID     2460 non-null   int64  \n",
      " 1   GAME_ID     2460 non-null   object \n",
      " 2   WL          2460 non-null   object \n",
      " 3   MIN         2460 non-null   int64  \n",
      " 4   FGM         2460 non-null   int64  \n",
      " 5   FGA         2460 non-null   int64  \n",
      " 6   FG_PCT      2460 non-null   float64\n",
      " 7   FG3M        2460 non-null   int64  \n",
      " 8   FG3A        2460 non-null   int64  \n",
      " 9   FG3_PCT     2460 non-null   float64\n",
      " 10  FTM         2460 non-null   int64  \n",
      " 11  FTA         2460 non-null   int64  \n",
      " 12  FT_PCT      2460 non-null   float64\n",
      " 13  OREB        2460 non-null   int64  \n",
      " 14  DREB        2460 non-null   int64  \n",
      " 15  REB         2460 non-null   int64  \n",
      " 16  AST         2460 non-null   int64  \n",
      " 17  STL         2460 non-null   int64  \n",
      " 18  BLK         2460 non-null   int64  \n",
      " 19  TOV         2460 non-null   int64  \n",
      " 20  PF          2460 non-null   int64  \n",
      " 21  PTS         2460 non-null   int64  \n",
      " 22  PLUS_MINUS  2460 non-null   int64  \n",
      "dtypes: float64(3), int64(18), object(2)\n",
      "memory usage: 442.2+ KB\n"
     ]
    }
   ],
   "source": [
    "df_T.info()"
   ]
  },
  {
   "cell_type": "code",
   "execution_count": 14,
   "id": "b12cd561-7dc7-4639-a506-7da2dee39d93",
   "metadata": {},
   "outputs": [],
   "source": [
    "assert df_T['TEAM_ID'].nunique() == 30, \"The NBA league is composed of 30 teams, but we're missing some!\""
   ]
  },
  {
   "cell_type": "code",
   "execution_count": 15,
   "id": "5e34cc7f-c7bd-4c25-b767-aea5fdaf841b",
   "metadata": {},
   "outputs": [],
   "source": [
    "game_counts = df_T.groupby('TEAM_ID').size()\n",
    "assert game_counts.nunique() == 1, \"Teams have different game counts!\"\n",
    "assert game_counts.unique() == 82, \"An NBA regular season is composed of 82 games, but we're missing some!\""
   ]
  },
  {
   "cell_type": "markdown",
   "id": "a84ac517-70a5-49f6-b009-bcabe60f317b",
   "metadata": {},
   "source": [
    "The `PLUS_MINUS` column should be removed from the teams df, as it just the mean difference in points between the two teams."
   ]
  },
  {
   "cell_type": "code",
   "execution_count": 16,
   "id": "3c47d60b-b7f9-4f98-ad78-65d22b0d185f",
   "metadata": {},
   "outputs": [],
   "source": [
    "for _, teams_df in df_T.groupby('GAME_ID'):\n",
    "    pts = teams_df['PTS']\n",
    "    plus_minus = teams_df['PLUS_MINUS']\n",
    "    \n",
    "    assert plus_minus.sum() == 0.0\n",
    "    assert abs(pts.diff().iloc[-1]) == 0.5 * plus_minus.abs().sum()"
   ]
  },
  {
   "cell_type": "code",
   "execution_count": 17,
   "id": "5028bfae-8137-4c2d-a17f-eb391e01bafb",
   "metadata": {},
   "outputs": [],
   "source": [
    "df_T.drop('PLUS_MINUS', axis=1, inplace=True)"
   ]
  },
  {
   "cell_type": "markdown",
   "id": "8810de48-8292-40b3-94bd-c44d8022d795",
   "metadata": {},
   "source": [
    "Now, let's dive into the players df. "
   ]
  },
  {
   "cell_type": "code",
   "execution_count": 18,
   "id": "81b1a8a5-587a-46d7-b687-1cec969247b3",
   "metadata": {},
   "outputs": [
    {
     "name": "stdout",
     "output_type": "stream",
     "text": [
      "<class 'pandas.core.frame.DataFrame'>\n",
      "RangeIndex: 26306 entries, 0 to 26305\n",
      "Data columns (total 23 columns):\n",
      " #   Column      Non-Null Count  Dtype  \n",
      "---  ------      --------------  -----  \n",
      " 0   PLAYER_ID   26306 non-null  int64  \n",
      " 1   GAME_ID     26306 non-null  object \n",
      " 2   WL          26306 non-null  object \n",
      " 3   MIN         26306 non-null  int64  \n",
      " 4   FGM         26306 non-null  int64  \n",
      " 5   FGA         26306 non-null  int64  \n",
      " 6   FG_PCT      24835 non-null  float64\n",
      " 7   FG3M        26306 non-null  int64  \n",
      " 8   FG3A        26306 non-null  int64  \n",
      " 9   FG3_PCT     20944 non-null  float64\n",
      " 10  FTM         26306 non-null  int64  \n",
      " 11  FTA         26306 non-null  int64  \n",
      " 12  FT_PCT      14343 non-null  float64\n",
      " 13  OREB        26306 non-null  int64  \n",
      " 14  DREB        26306 non-null  int64  \n",
      " 15  REB         26306 non-null  int64  \n",
      " 16  AST         26306 non-null  int64  \n",
      " 17  STL         26306 non-null  int64  \n",
      " 18  BLK         26306 non-null  int64  \n",
      " 19  TOV         26306 non-null  int64  \n",
      " 20  PF          26306 non-null  int64  \n",
      " 21  PTS         26306 non-null  int64  \n",
      " 22  PLUS_MINUS  26306 non-null  int64  \n",
      "dtypes: float64(3), int64(18), object(2)\n",
      "memory usage: 4.6+ MB\n"
     ]
    }
   ],
   "source": [
    "df_P.info()"
   ]
  },
  {
   "cell_type": "markdown",
   "id": "2a5b8fa7-d299-42be-888d-1dbcde9f3408",
   "metadata": {},
   "source": [
    "From what we can see, the only data missing is in `FG_PCT`, `FG3_PCT` and `FT_PCT`. Let's check that the data is missing because there aren't any attempts."
   ]
  },
  {
   "cell_type": "code",
   "execution_count": 19,
   "id": "83cc0fc9-64bd-415f-805d-f81107af57c4",
   "metadata": {},
   "outputs": [],
   "source": [
    "assert (\n",
    "    df_P[(df_P['FGA'] > 0) & (df_P['FG_PCT'].isnull())].shape[0] == 0 and\n",
    "    df_P[(df_P['FGA'] == 0) & (df_P['FG_PCT'].isnull())].shape[0] == df_P['FG_PCT'].isnull().sum()\n",
    "), \"Missing FG_PCT should only occur when FGA = 0\"\n",
    "\n",
    "assert (\n",
    "    df_P[(df_P['FG3A'] > 0) & (df_P['FG3_PCT'].isnull())].shape[0] == 0 and\n",
    "    df_P[(df_P['FG3A'] == 0) & (df_P['FG3_PCT'].isnull())].shape[0] == df_P['FG3_PCT'].isnull().sum()\n",
    "), \"Missing FG3_PCT should only occur when FG3A = 0\"\n",
    "\n",
    "assert (\n",
    "    df_P[(df_P['FTA'] > 0) & (df_P['FT_PCT'].isnull())].shape[0] == 0 and\n",
    "    df_P[(df_P['FTA'] == 0) & (df_P['FT_PCT'].isnull())].shape[0] == df_P['FT_PCT'].isnull().sum()\n",
    "), \"Missing FT_PCT should only occur when FTA = 0\""
   ]
  },
  {
   "cell_type": "markdown",
   "id": "25b51259-c081-4c40-bf08-07f51dd9f36f",
   "metadata": {},
   "source": [
    "The solution to this problem is to exclude the `*_PCT` columns from our dfs. "
   ]
  },
  {
   "cell_type": "code",
   "execution_count": 20,
   "id": "35ca6429-07e5-4955-91b5-9330a86aca8b",
   "metadata": {},
   "outputs": [],
   "source": [
    "df_T.drop(columns=['FG_PCT', 'FG3_PCT', 'FT_PCT'], inplace=True)\n",
    "df_P.drop(columns=['FG_PCT', 'FG3_PCT', 'FT_PCT'], inplace=True)"
   ]
  },
  {
   "cell_type": "code",
   "execution_count": 21,
   "id": "73afa45d-d809-48c0-a008-9089229a3428",
   "metadata": {},
   "outputs": [],
   "source": [
    "assert df_T['WL'].nunique() == df_P['WL'].nunique() == 2, \"A basketball game can only finish with a win or a lose!\""
   ]
  },
  {
   "cell_type": "code",
   "execution_count": 22,
   "id": "07224af5-e965-48df-a116-2e8a7e33b55c",
   "metadata": {},
   "outputs": [
    {
     "name": "stderr",
     "output_type": "stream",
     "text": [
      "/tmp/ipykernel_30787/3727156323.py:1: FutureWarning: Downcasting behavior in `replace` is deprecated and will be removed in a future version. To retain the old behavior, explicitly call `result.infer_objects(copy=False)`. To opt-in to the future behavior, set `pd.set_option('future.no_silent_downcasting', True)`\n",
      "  df_T['WL'] = df_T['WL'].replace({'W': 1, 'L': 0}).astype('bool')\n",
      "/tmp/ipykernel_30787/3727156323.py:2: FutureWarning: Downcasting behavior in `replace` is deprecated and will be removed in a future version. To retain the old behavior, explicitly call `result.infer_objects(copy=False)`. To opt-in to the future behavior, set `pd.set_option('future.no_silent_downcasting', True)`\n",
      "  df_P['WL'] = df_P['WL'].replace({'W': 1, 'L': 0}).astype('bool')\n"
     ]
    }
   ],
   "source": [
    "df_T['WL'] = df_T['WL'].replace({'W': 1, 'L': 0}).astype('bool')\n",
    "df_P['WL'] = df_P['WL'].replace({'W': 1, 'L': 0}).astype('bool')"
   ]
  },
  {
   "cell_type": "markdown",
   "id": "48e532ec-fc8e-4a71-8720-936d86076bd9",
   "metadata": {},
   "source": [
    "Since we're interested in scraping a lot of data, we shouldn't forget about memory! Both teams and players stats are stored as `Int64` (8 bytes)... let's see if we can use something smarter. "
   ]
  },
  {
   "cell_type": "code",
   "execution_count": 23,
   "id": "662af1da-1c90-42f7-b9ba-064ebfb511ee",
   "metadata": {},
   "outputs": [],
   "source": [
    "for col in df_T.select_dtypes(include=['int64']).columns:\n",
    "    df_T[col] = pd.to_numeric(df_T[col], downcast='unsigned')"
   ]
  },
  {
   "cell_type": "code",
   "execution_count": 24,
   "id": "89d4eda7-a525-4feb-a002-f9e5be700e44",
   "metadata": {},
   "outputs": [
    {
     "data": {
      "text/plain": [
       "TEAM_ID    uint32\n",
       "GAME_ID    object\n",
       "WL           bool\n",
       "MIN        uint16\n",
       "FGM         uint8\n",
       "FGA         uint8\n",
       "FG3M        uint8\n",
       "FG3A        uint8\n",
       "FTM         uint8\n",
       "FTA         uint8\n",
       "OREB        uint8\n",
       "DREB        uint8\n",
       "REB         uint8\n",
       "AST         uint8\n",
       "STL         uint8\n",
       "BLK         uint8\n",
       "TOV         uint8\n",
       "PF          uint8\n",
       "PTS         uint8\n",
       "dtype: object"
      ]
     },
     "execution_count": 24,
     "metadata": {},
     "output_type": "execute_result"
    }
   ],
   "source": [
    "df_T.dtypes"
   ]
  },
  {
   "cell_type": "code",
   "execution_count": 25,
   "id": "99370be5-7588-4543-bdeb-12223247b077",
   "metadata": {},
   "outputs": [
    {
     "name": "stdout",
     "output_type": "stream",
     "text": [
      "Original teams df memory: 1.35 MB\n",
      "Optimized teams df memory: 0.19 MB\n",
      "Memory saved: 1.16 MB (85.9%)\n"
     ]
    }
   ],
   "source": [
    "original_memory = gamelogs_T.get_data_frames()[0].memory_usage(deep=True).sum()\n",
    "optimized_memory = df_T.memory_usage(deep=True).sum()\n",
    "\n",
    "print(f\"Original teams df memory: {original_memory / 1024**2:.2f} MB\")\n",
    "print(f\"Optimized teams df memory: {optimized_memory / 1024**2:.2f} MB\")\n",
    "print(f\"Memory saved: {(original_memory - optimized_memory) / 1024**2:.2f} MB ({(1 - optimized_memory/original_memory)*100:.1f}%)\")"
   ]
  },
  {
   "cell_type": "code",
   "execution_count": 26,
   "id": "d953a85e-5b03-482a-8f26-cff6005b22c2",
   "metadata": {},
   "outputs": [],
   "source": [
    "for col in df_P.select_dtypes(include=['int64']).columns:\n",
    "    df_P[col] = pd.to_numeric(df_P[col], downcast='unsigned')\n",
    "\n",
    "df_P['PLUS_MINUS'] = pd.to_numeric(df_P['PLUS_MINUS'], downcast='signed')"
   ]
  },
  {
   "cell_type": "code",
   "execution_count": 27,
   "id": "3a7e5d44-1499-465b-8f96-994361fb5bf4",
   "metadata": {},
   "outputs": [
    {
     "data": {
      "text/plain": [
       "PLAYER_ID     uint32\n",
       "GAME_ID       object\n",
       "WL              bool\n",
       "MIN            uint8\n",
       "FGM            uint8\n",
       "FGA            uint8\n",
       "FG3M           uint8\n",
       "FG3A           uint8\n",
       "FTM            uint8\n",
       "FTA            uint8\n",
       "OREB           uint8\n",
       "DREB           uint8\n",
       "REB            uint8\n",
       "AST            uint8\n",
       "STL            uint8\n",
       "BLK            uint8\n",
       "TOV            uint8\n",
       "PF             uint8\n",
       "PTS            uint8\n",
       "PLUS_MINUS      int8\n",
       "dtype: object"
      ]
     },
     "execution_count": 27,
     "metadata": {},
     "output_type": "execute_result"
    }
   ],
   "source": [
    "df_P.dtypes"
   ]
  },
  {
   "cell_type": "code",
   "execution_count": 28,
   "id": "d534f810-d3ae-4005-9297-8f3ff00c3037",
   "metadata": {},
   "outputs": [
    {
     "name": "stdout",
     "output_type": "stream",
     "text": [
      "Original players df memory: 16.38 MB\n",
      "Optimized players df memory: 2.03 MB\n",
      "Memory saved: 14.35 MB (87.6%)\n"
     ]
    }
   ],
   "source": [
    "original_memory = gamelogs_P.get_data_frames()[0].memory_usage(deep=True).sum()\n",
    "optimized_memory = df_P.memory_usage(deep=True).sum()\n",
    "\n",
    "print(f\"Original players df memory: {original_memory / 1024**2:.2f} MB\")\n",
    "print(f\"Optimized players df memory: {optimized_memory / 1024**2:.2f} MB\")\n",
    "print(f\"Memory saved: {(original_memory - optimized_memory) / 1024**2:.2f} MB ({(1 - optimized_memory/original_memory)*100:.1f}%)\")"
   ]
  },
  {
   "cell_type": "raw",
   "id": "57185805-2171-46ee-ae94-84e35d01d3b3",
   "metadata": {},
   "source": []
  },
  {
   "cell_type": "markdown",
   "id": "ea5dc1ea-5980-4505-89f2-f478b8df5bae",
   "metadata": {},
   "source": [
    "Now we can finally save the dfs as csv files divided by games. "
   ]
  },
  {
   "cell_type": "code",
   "execution_count": 30,
   "id": "af39cf5f-65c2-4438-aa30-ec53b1613edc",
   "metadata": {},
   "outputs": [
    {
     "name": "stderr",
     "output_type": "stream",
     "text": [
      "100%|███████████████████████████████████████| 1230/1230 [00:33<00:00, 36.23it/s]\n"
     ]
    }
   ],
   "source": [
    "from pathlib import Path\n",
    "from tqdm import tqdm\n",
    "\n",
    "season_path = f\"~/MBAI/data/rs{season_id}/\"\n",
    "for game_id in tqdm(game_ids):\n",
    "    \n",
    "    game_path = season_path + f\"games/g{game_id}/\"\n",
    "    try: \n",
    "        Path(game_path).expanduser().mkdir(parents=True, exist_ok=True)\n",
    "    except Exception as e:\n",
    "        print(f\"Error in creating the game directory: {e}\")\n",
    "\n",
    "    teams_df = df_T[df_T['GAME_ID'] == game_id].drop('GAME_ID', axis=1)\n",
    "    try:\n",
    "        teams_df.to_csv(game_path + \"teams.csv\", index=False)\n",
    "    except Exception as e:\n",
    "        print(f\"Error in saving the teams csv: {e}\")\n",
    "\n",
    "    players_df = df_P[df_P['GAME_ID'] == game_id].drop('GAME_ID', axis=1)\n",
    "    try:\n",
    "        players_df.to_csv(game_path + \"players.csv\", index=False)\n",
    "    except Exception as e:\n",
    "        print(f\"Error in saving the players csv: {e}\")"
   ]
  }
 ],
 "metadata": {
  "kernelspec": {
   "display_name": "Python 3 (ipykernel)",
   "language": "python",
   "name": "python3"
  },
  "language_info": {
   "codemirror_mode": {
    "name": "ipython",
    "version": 3
   },
   "file_extension": ".py",
   "mimetype": "text/x-python",
   "name": "python",
   "nbconvert_exporter": "python",
   "pygments_lexer": "ipython3",
   "version": "3.13.5"
  }
 },
 "nbformat": 4,
 "nbformat_minor": 5
}
